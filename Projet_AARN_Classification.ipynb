{
  "cells": [
    {
      "cell_type": "markdown",
      "source": [
        "Travail réalisé par :\n",
        "                GHAMRACI RAHIL G1 202031025179 et\n",
        "                BENZEMRANE LYDIA G1 202031084177"
      ],
      "metadata": {
        "id": "v4lhyADnHenR"
      }
    },
    {
      "cell_type": "code",
      "execution_count": null,
      "metadata": {
        "id": "tLUIlec0KLRZ",
        "outputId": "3d867f91-6f4e-4b40-a946-dd7e00a62a10"
      },
      "outputs": [
        {
          "name": "stderr",
          "output_type": "stream",
          "text": [
            "C:\\Users\\HP\\AppData\\Local\\Temp\\ipykernel_6904\\1402726705.py:1: DeprecationWarning: \n",
            "Pyarrow will become a required dependency of pandas in the next major release of pandas (pandas 3.0),\n",
            "(to allow more performant data types, such as the Arrow string type, and better interoperability with other libraries)\n",
            "but was not found to be installed on your system.\n",
            "If this would cause problems for you,\n",
            "please provide us feedback at https://github.com/pandas-dev/pandas/issues/54466\n",
            "        \n",
            "  import pandas as pd\n"
          ]
        },
        {
          "name": "stdout",
          "output_type": "stream",
          "text": [
            "WARNING:tensorflow:From c:\\Python311\\Lib\\site-packages\\keras\\src\\losses.py:2976: The name tf.losses.sparse_softmax_cross_entropy is deprecated. Please use tf.compat.v1.losses.sparse_softmax_cross_entropy instead.\n",
            "\n"
          ]
        }
      ],
      "source": [
        "import pandas as pd\n",
        "import numpy as np\n",
        "from sklearn.model_selection import train_test_split\n",
        "from sklearn.metrics import confusion_matrix, accuracy_score, recall_score, precision_score\n",
        "import matplotlib.pyplot as plt\n",
        "import re\n",
        "from nltk.corpus import stopwords\n",
        "from nltk.tokenize import word_tokenize\n",
        "from collections import Counter\n",
        "import tensorflow as tf\n",
        "from tensorflow.keras.models import Sequential\n",
        "from tensorflow.keras.layers import LSTM, Embedding, Dense\n",
        "import nltk"
      ]
    },
    {
      "cell_type": "code",
      "execution_count": null,
      "metadata": {
        "colab": {
          "base_uri": "https://localhost:8080/"
        },
        "id": "ilotg7nYKtwc",
        "outputId": "320de15c-e169-4202-ab0d-84e106ece2ff"
      },
      "outputs": [
        {
          "name": "stderr",
          "output_type": "stream",
          "text": [
            "c:\\Python311\\Lib\\site-packages\\dask\\dataframe\\__init__.py:31: FutureWarning: \n",
            "Dask dataframe query planning is disabled because dask-expr is not installed.\n",
            "\n",
            "You can install it with `pip install dask[dataframe]` or `conda install dask`.\n",
            "This will raise in a future version.\n",
            "\n",
            "  warnings.warn(msg, FutureWarning)\n"
          ]
        },
        {
          "name": "stdout",
          "output_type": "stream",
          "text": [
            "(10000, 1429)\n",
            "(10000, 1429)\n",
            "Forme du tableau concaténé: (20000, 1429)\n",
            "Type du tableau concaténé: <class 'numpy.ndarray'>\n",
            "(20000,)\n"
          ]
        }
      ],
      "source": [
        "# Lecture des données extraites des deux parties\n",
        "\n",
        "import dask.dataframe as dd\n",
        "import pandas as pd\n",
        "\n",
        "df1 = pd.read_csv(r'C:\\Users\\HP\\Desktop\\data1.csv', nrows=10000) # lire data1.csv\n",
        "X1 = df1.iloc[:, :]\n",
        "print(X1.shape)\n",
        "\n",
        "df2 = pd.read_csv(r'C:\\Users\\HP\\Desktop\\data2.csv', nrows=10000) # lire data2.csv\n",
        "X2 = df2.iloc[:, :]\n",
        "print(X2.shape)\n",
        "\n",
        "X = np.concatenate((X1, X2), axis=0)\n",
        "\n",
        "\n",
        "# Afficher la forme et le type du tableau concaténé\n",
        "print(\"Forme du tableau concaténé:\", X.shape)\n",
        "print(\"Type du tableau concaténé:\", type(X))\n",
        "\n",
        "# Lecture des données pour extraire y à nouveau\n",
        "df = pd.read_csv(r'C:\\Users\\HP\\Desktop\\Project AARN\\Projet TP AARN\\training.1600000.processed.noemoticon.csv', header=None, encoding='latin-1')\n",
        "y = df.iloc[:, 0]\n",
        "\n",
        "#prendre les meme instance prises dans x1 et x2\n",
        "half_index = len(y) // 2\n",
        "y_first_half = y[0:0+10000]\n",
        "y_second_half = y[half_index:half_index+10000]\n",
        "\n",
        "y= np.concatenate((y_first_half, y_second_half), axis=0)\n",
        "\n",
        "y = np.where(y == 4, 1, 0)\n",
        "\n",
        "print(y.shape)\n",
        "\n",
        "Xt, Xtt, Yt, Ytt = train_test_split(X, y, test_size = 0.30)\n",
        "\n",
        "#liberer de l'espace\n",
        "del y_first_half\n",
        "del y_second_half\n",
        "del df\n",
        "del X1\n",
        "del X2\n",
        "del X\n",
        "del y"
      ]
    },
    {
      "cell_type": "markdown",
      "metadata": {
        "id": "cCekSgdYMLRc"
      },
      "source": [
        "**Classification**"
      ]
    },
    {
      "cell_type": "markdown",
      "metadata": {
        "id": "ejZ4doqUN45Q"
      },
      "source": [
        "**KNN**"
      ]
    },
    {
      "cell_type": "code",
      "execution_count": null,
      "metadata": {
        "id": "DdpO37aGMtNR"
      },
      "outputs": [],
      "source": [
        "def calcul_dis(data,instance):\n",
        "  distances = np.empty((0 ,2))\n",
        "  #calculer les distances\n",
        "  for i in range(data.shape[0]):\n",
        "    dist = np.linalg.norm(data[i,:] - instance)\n",
        "    distances = np.append(distances, [[dist, i]], axis=0)  #distance dans indice 0 et l'indice de l'instance ( dans le data set) que nous avons calculé sa distance par rapport à la nouvelle instance est dans 1\n",
        "  #trier le tableau multidimensionnel\n",
        "  distances = np.array(distances)\n",
        "  distances_triees = distances[distances[:, 0].argsort()]\n",
        "  return distances_triees"
      ]
    },
    {
      "cell_type": "code",
      "execution_count": null,
      "metadata": {
        "id": "FQyuGqBJMx_S"
      },
      "outputs": [],
      "source": [
        "def knn(X,Y,instance,k):\n",
        "  #calculer les distances\n",
        "  distances = calcul_dis(X,instance)\n",
        "  # Prendre les 'k' premiers éléments de la liste distances revient à prendre les k plus proches voisins car la liste est triée selon un ordre croissant des distances\n",
        "  k_premiers_voisins = distances[:k]\n",
        "  # calculer le nombre d'instance pour chaque classe\n",
        "  tableau = np.zeros(2, dtype=np.int64)\n",
        "  for i in range(len(k_premiers_voisins)):\n",
        "    indice_instance=int(k_premiers_voisins[i, 1])\n",
        "    #print(indice_instance)\n",
        "    tableau[Y[indice_instance] ] +=1 # le nombre d'instance de la classe 0 est stocké dans l'indce 0 du tableau , de meme nombre d'instance de la classe 1 est stocké dans l'indce 1 du tableau\n",
        "\n",
        "  #preandre la classe avec le plus d'instances et l'attribuer à notre nouvelle instance\n",
        "  indice_max = np.argmax(tableau)\n",
        "  return indice_max"
      ]
    },
    {
      "cell_type": "code",
      "execution_count": null,
      "metadata": {
        "colab": {
          "base_uri": "https://localhost:8080/"
        },
        "id": "doqI8AefUynV",
        "outputId": "510f065e-6367-4447-f65a-c732e9808ca6"
      },
      "outputs": [
        {
          "name": "stdout",
          "output_type": "stream",
          "text": [
            "valeur de y true 1\n",
            "valeur de y pédit 1\n"
          ]
        }
      ],
      "source": [
        "c=0\n",
        "y_pred=knn(Xt,Yt,Xtt[c],6)\n",
        "print('valeur de y true '+str(Ytt[c]))\n",
        "print ('valeur de y pédit '+str(y_pred))"
      ]
    },
    {
      "cell_type": "code",
      "execution_count": null,
      "metadata": {
        "id": "BYJ4g0vKZaA3",
        "outputId": "a25e4cb1-4516-47b6-b15b-2f652671321a"
      },
      "outputs": [
        {
          "data": {
            "text/plain": [
              "64.75"
            ]
          },
          "execution_count": 18,
          "metadata": {},
          "output_type": "execute_result"
        }
      ],
      "source": [
        "# construire le y_pred avec  knn implementé\n",
        "y_pred_knn = np.zeros(len(Xtt), dtype=np.int64)\n",
        "for i in range(len(Xtt)):\n",
        "  y_pred_knn[i]=knn(Xt,Yt,Xtt[i],6)\n",
        "\n",
        "precision = np.mean(Ytt == y_pred_knn)*100\n",
        "precision"
      ]
    },
    {
      "cell_type": "code",
      "execution_count": null,
      "metadata": {
        "colab": {
          "base_uri": "https://localhost:8080/"
        },
        "id": "rMlFlx6l91XC",
        "outputId": "355f8e49-c054-4036-bfe3-9e11d4ab864d"
      },
      "outputs": [
        {
          "name": "stdout",
          "output_type": "stream",
          "text": [
            "Accuracy: 0.6253333333333333\n",
            "Recall: 0.5202003338898163\n",
            "Precision: 0.65766146053187\n",
            "False Positive Rate: 0.26988352745424293\n",
            "True Negative Rate: 0.7301164725457571\n"
          ]
        }
      ],
      "source": [
        "conf_matrix = confusion_matrix(Ytt, y_pred_knn)\n",
        "\n",
        "# Calcul de l'accuracy (taux de classification correcte)\n",
        "accuracy = accuracy_score(Ytt, y_pred_knn)\n",
        "\n",
        "# Calcul du rappel (taux de vrais positifs)\n",
        "recall = recall_score(Ytt, y_pred_knn)\n",
        "\n",
        "# Calcul de la précision (proportion de vrais positifs parmi les prédictions positives)\n",
        "precision = precision_score(Ytt, y_pred_knn)\n",
        "\n",
        "# Calcul du taux de faux positifs (taux d'échantillons réels négatifs incorrectement classés comme positifs)\n",
        "false_positive_rate = conf_matrix[0, 1] / (conf_matrix[0, 0] + conf_matrix[0, 1])\n",
        "\n",
        "# Calcul du taux de vrais négatifs (taux d'échantillons réels négatifs correctement classés)\n",
        "true_negative_rate = conf_matrix[0, 0] / (conf_matrix[0, 0] + conf_matrix[0, 1])\n",
        "\n",
        "print(\"Accuracy:\", accuracy)\n",
        "print(\"Recall:\", recall)\n",
        "print(\"Precision:\", precision)\n",
        "print(\"False Positive Rate:\", false_positive_rate)\n",
        "print(\"True Negative Rate:\", true_negative_rate)"
      ]
    },
    {
      "cell_type": "code",
      "execution_count": null,
      "metadata": {
        "id": "sQskzeePh8yD"
      },
      "outputs": [],
      "source": [
        "def calcul_probs(X, y):\n",
        "    probs_pos = np.zeros(X.shape[1]) # Stocker les probabilités de chaque mot sachant qu'il apparaît dans un tweet positif\n",
        "    probs_neg = np.zeros(X.shape[1]) # Stocker les probabilités de chaque mot sachant qu'il apparaît dans un tweet négatif\n",
        "\n",
        "    nb_tweet_pos = sum(1 for i in y if i == 1)\n",
        "    nb_tweet_neg = sum(1 for i in y if i == 0)\n",
        "\n",
        "    for i in range(X.shape[1]):\n",
        "        # Calcul des probabilités sachant que le mot apparaît dans un tweet positif\n",
        "        probs_pos[i] = (1 + sum(1 for j in range(X.shape[0]) if X[j, i] == 1 and y[j] == 1) )/ nb_tweet_pos # le 1 c pour le lissage\n",
        "\n",
        "        # Calcul des probabilités sachant que le mot apparaît dans un tweet négatif\n",
        "        probs_neg[i] = (1 + sum(1 for j in range(X.shape[0]) if X[j, i] == 1 and y[j] == 0) )/ nb_tweet_neg  # le 1 c pour le lissage\n",
        "\n",
        "    return probs_pos, probs_neg"
      ]
    },
    {
      "cell_type": "code",
      "execution_count": null,
      "metadata": {
        "id": "hjS9lUX_oIUm"
      },
      "outputs": [],
      "source": [
        "def naif_bayes(probs_pos, probs_neg, p_pos_init, p_neg_init, X):\n",
        "    p_pos = p_pos_init\n",
        "    p_neg = p_neg_init\n",
        "\n",
        "    for i in range(X.shape[0]): # Parcourir la liste des mots dans le tweet\n",
        "        # Si le mot est présent dans le tweet\n",
        "        if X[i] == 1:\n",
        "            p_pos *= probs_pos[i]\n",
        "            p_neg *= probs_neg[i]\n",
        "\n",
        "    if p_pos > p_neg:\n",
        "        return 1\n",
        "    else:\n",
        "        return 0\n"
      ]
    },
    {
      "cell_type": "code",
      "execution_count": null,
      "metadata": {
        "colab": {
          "base_uri": "https://localhost:8080/"
        },
        "id": "-4bL9pC5nwSZ",
        "outputId": "1f6343a5-c4fa-4e31-8a16-fac16691ade7"
      },
      "outputs": [
        {
          "name": "stdout",
          "output_type": "stream",
          "text": [
            "[0.00243483 0.00014323 0.03766829 ... 0.00014323 0.00014323 0.00014323]\n",
            "[0.00370476 0.00185238 0.04474209 ... 0.00014249 0.00014249 0.00014249]\n",
            "2328\n",
            "valeur de y true 1\n",
            "valeur de y pédit 0\n"
          ]
        }
      ],
      "source": [
        "import random\n",
        "#calculating initial guess\n",
        "p_pos_init= sum(1 for i in Yt if i == 1) / Xt.shape[0]\n",
        "p_neg_init= sum(1 for i in Yt if i == 0) / Xt.shape[0]\n",
        "probs_pos, probs_neg = calcul_probs(Xt,Yt)\n",
        "print(probs_pos)\n",
        "print(probs_neg)\n",
        "print(Xtt[0].shape[0])\n",
        "c = random.randint(0, Xtt.shape[0])\n",
        "y_pred=naif_bayes(probs_pos, probs_neg, p_pos_init, p_neg_init,Xtt[0])\n",
        "print('valeur de y true '+str(Ytt[0]))\n",
        "print ('valeur de y pédit '+str(y_pred))\n",
        "\n"
      ]
    },
    {
      "cell_type": "code",
      "execution_count": null,
      "metadata": {
        "colab": {
          "base_uri": "https://localhost:8080/"
        },
        "id": "nkZOcLmPyYAS",
        "outputId": "8cb7cc2b-44a4-4bb5-bf15-6c4baf97a73c"
      },
      "outputs": [
        {
          "data": {
            "text/plain": [
              "71.76666666666667"
            ]
          },
          "execution_count": 9,
          "metadata": {},
          "output_type": "execute_result"
        }
      ],
      "source": [
        "y_pred_naif_bayes = np.zeros(len(Xtt), dtype=np.int64)\n",
        "for i in range(len(Xtt)):\n",
        "  y_pred_naif_bayes[i]=naif_bayes(probs_pos, probs_neg, p_pos_init, p_neg_init,Xtt[i])\n",
        "\n",
        "precision = np.mean(Ytt == y_pred_naif_bayes)*100\n",
        "precision"
      ]
    },
    {
      "cell_type": "code",
      "execution_count": null,
      "metadata": {
        "colab": {
          "base_uri": "https://localhost:8080/"
        },
        "id": "TWFYu2Wg-FXs",
        "outputId": "7e58a4a1-15ba-4d18-c7bc-7ac1769751c7"
      },
      "outputs": [
        {
          "name": "stdout",
          "output_type": "stream",
          "text": [
            "Accuracy: 0.7176666666666667\n",
            "Recall: 0.6474486414844268\n",
            "Precision: 0.7561919504643962\n",
            "False Positive Rate: 0.2112676056338028\n",
            "True Negative Rate: 0.7887323943661971\n"
          ]
        }
      ],
      "source": [
        "conf_matrix = confusion_matrix(Ytt, y_pred_naif_bayes)\n",
        "\n",
        "# Calcul de l'accuracy (taux de classification correcte)\n",
        "accuracy = accuracy_score(Ytt, y_pred_naif_bayes)\n",
        "\n",
        "# Calcul du rappel (taux de vrais positifs)\n",
        "recall = recall_score(Ytt, y_pred_naif_bayes)\n",
        "\n",
        "# Calcul de la précision (proportion de vrais positifs parmi les prédictions positives)\n",
        "precision = precision_score(Ytt, y_pred_naif_bayes)\n",
        "\n",
        "# Calcul du taux de faux positifs (taux d'échantillons réels négatifs incorrectement classés comme positifs)\n",
        "false_positive_rate = conf_matrix[0, 1] / (conf_matrix[0, 0] + conf_matrix[0, 1])\n",
        "\n",
        "# Calcul du taux de vrais négatifs (taux d'échantillons réels négatifs correctement classés)\n",
        "true_negative_rate = conf_matrix[0, 0] / (conf_matrix[0, 0] + conf_matrix[0, 1])\n",
        "\n",
        "print(\"Accuracy:\", accuracy)\n",
        "print(\"Recall:\", recall)\n",
        "print(\"Precision:\", precision)\n",
        "print(\"False Positive Rate:\", false_positive_rate)\n",
        "print(\"True Negative Rate:\", true_negative_rate)"
      ]
    },
    {
      "cell_type": "markdown",
      "metadata": {
        "id": "D9BCwIZDYI-G"
      },
      "source": [
        "**SVM**"
      ]
    },
    {
      "cell_type": "code",
      "execution_count": null,
      "metadata": {
        "colab": {
          "base_uri": "https://localhost:8080/",
          "height": 473
        },
        "id": "Cj_UYGLhaz9s",
        "outputId": "13f06b85-06e0-4e31-f412-13702602b9fe"
      },
      "outputs": [
        {
          "data": {
            "image/png": "[encoded data removed]",
            "text/plain": [
              "<Figure size 640x480 with 1 Axes>"
            ]
          },
          "metadata": {},
          "output_type": "display_data"
        }
      ],
      "source": [
        "from sklearn.decomposition import PCA\n",
        "\n",
        "# Réduction de dimensionnalité avec PCA\n",
        "pca = PCA(n_components=2)\n",
        "X_pca = pca.fit_transform(Xt)\n",
        "\n",
        "# Tracer les points\n",
        "plt.scatter(X_pca[:, 0], X_pca[:, 1], c=Yt, cmap=plt.cm.Paired)\n",
        "plt.xlabel('Première composante principale')\n",
        "plt.ylabel('Deuxième composante principale')\n",
        "plt.title('Projection des données avec PCA')\n",
        "plt.show()\n"
      ]
    },
    {
      "cell_type": "code",
      "execution_count": null,
      "metadata": {
        "colab": {
          "base_uri": "https://localhost:8080/"
        },
        "id": "0Np-16WAYQBS",
        "outputId": "a56990fb-a66d-4ad8-ecf6-fcf597916aaa"
      },
      "outputs": [
        {
          "data": {
            "text/plain": [
              "72.91666666666666"
            ]
          },
          "execution_count": 10,
          "metadata": {},
          "output_type": "execute_result"
        }
      ],
      "source": [
        "# ajouter plus  de paramètres\n",
        "from sklearn import svm\n",
        "#Créer le modèle\n",
        "model= svm.SVC(kernel='rbf') # car les données ne sont pas linéairement séparables\n",
        "# entrainement\n",
        "model.fit(Xt, Yt)\n",
        "# Prediction\n",
        "y_pred_mvs = model.predict(Xtt)\n",
        "\n",
        "precision = np.mean(Ytt == y_pred_mvs)*100\n",
        "precision"
      ]
    },
    {
      "cell_type": "code",
      "execution_count": null,
      "metadata": {
        "colab": {
          "base_uri": "https://localhost:8080/"
        },
        "id": "Rgt7c62--Jv8",
        "outputId": "836be28c-8c16-41a9-ed30-76a98b090ee3"
      },
      "outputs": [
        {
          "name": "stdout",
          "output_type": "stream",
          "text": [
            "Accuracy: 0.7291666666666666\n",
            "Recall: 0.7664015904572564\n",
            "Precision: 0.7154345808846273\n",
            "False Positive Rate: 0.3085177733065057\n",
            "True Negative Rate: 0.6914822266934944\n"
          ]
        }
      ],
      "source": [
        "conf_matrix = confusion_matrix(Ytt, y_pred_mvs)\n",
        "\n",
        "# Calcul de l'accuracy (taux de classification correcte)\n",
        "accuracy = accuracy_score(Ytt, y_pred_mvs)\n",
        "\n",
        "# Calcul du rappel (taux de vrais positifs)\n",
        "recall = recall_score(Ytt, y_pred_mvs)\n",
        "\n",
        "# Calcul de la précision (proportion de vrais positifs parmi les prédictions positives)\n",
        "precision = precision_score(Ytt, y_pred_mvs)\n",
        "\n",
        "# Calcul du taux de faux positifs (taux d'échantillons réels négatifs incorrectement classés comme positifs)\n",
        "false_positive_rate = conf_matrix[0, 1] / (conf_matrix[0, 0] + conf_matrix[0, 1])\n",
        "\n",
        "# Calcul du taux de vrais négatifs (taux d'échantillons réels négatifs correctement classés)\n",
        "true_negative_rate = conf_matrix[0, 0] / (conf_matrix[0, 0] + conf_matrix[0, 1])\n",
        "\n",
        "print(\"Accuracy:\", accuracy)\n",
        "print(\"Recall:\", recall)\n",
        "print(\"Precision:\", precision)\n",
        "print(\"False Positive Rate:\", false_positive_rate)\n",
        "print(\"True Negative Rate:\", true_negative_rate)"
      ]
    },
    {
      "cell_type": "markdown",
      "metadata": {
        "id": "Dz83w-D_YqOQ"
      },
      "source": [
        "**Decision** **Tree**"
      ]
    },
    {
      "cell_type": "code",
      "execution_count": null,
      "metadata": {
        "colab": {
          "base_uri": "https://localhost:8080/"
        },
        "id": "VhbQxqFoYYGC",
        "outputId": "f868062b-5a38-4c27-8ef0-f02bdfd3f575"
      },
      "outputs": [
        {
          "data": {
            "text/plain": [
              "66.58333333333334"
            ]
          },
          "execution_count": 11,
          "metadata": {},
          "output_type": "execute_result"
        }
      ],
      "source": [
        "# ajouter plus  de paramètres\n",
        "from sklearn.tree import DecisionTreeClassifier\n",
        "# Créer le modèle\n",
        "model = DecisionTreeClassifier()\n",
        "# Entrainer le modèle\n",
        "model = model.fit(Xt, Yt)\n",
        "# Prediction\n",
        "y_pred_dtree = model.predict(Xtt)\n",
        "\n",
        "precision = np.mean(Ytt == y_pred_dtree)*100\n",
        "precision"
      ]
    },
    {
      "cell_type": "code",
      "execution_count": null,
      "metadata": {
        "colab": {
          "base_uri": "https://localhost:8080/"
        },
        "id": "Ym3sFq45-OQH",
        "outputId": "0c9b1b10-6aec-4157-964d-4c58de055fa9"
      },
      "outputs": [
        {
          "name": "stdout",
          "output_type": "stream",
          "text": [
            "Accuracy: 0.6658333333333334\n",
            "Recall: 0.6328694499668654\n",
            "Precision: 0.6804417527609548\n",
            "False Positive Rate: 0.3008048289738431\n",
            "True Negative Rate: 0.6991951710261569\n"
          ]
        }
      ],
      "source": [
        "conf_matrix = confusion_matrix(Ytt, y_pred_dtree)\n",
        "\n",
        "# Calcul de l'accuracy (taux de classification correcte)\n",
        "accuracy = accuracy_score(Ytt, y_pred_dtree)\n",
        "\n",
        "# Calcul du rappel (taux de vrais positifs)\n",
        "recall = recall_score(Ytt, y_pred_dtree)\n",
        "\n",
        "# Calcul de la précision (proportion de vrais positifs parmi les prédictions positives)\n",
        "precision = precision_score(Ytt, y_pred_dtree)\n",
        "\n",
        "# Calcul du taux de faux positifs (taux d'échantillons réels négatifs incorrectement classés comme positifs)\n",
        "false_positive_rate = conf_matrix[0, 1] / (conf_matrix[0, 0] + conf_matrix[0, 1])\n",
        "\n",
        "# Calcul du taux de vrais négatifs (taux d'échantillons réels négatifs correctement classés)\n",
        "true_negative_rate = conf_matrix[0, 0] / (conf_matrix[0, 0] + conf_matrix[0, 1])\n",
        "\n",
        "print(\"Accuracy:\", accuracy)\n",
        "print(\"Recall:\", recall)\n",
        "print(\"Precision:\", precision)\n",
        "print(\"False Positive Rate:\", false_positive_rate)\n",
        "print(\"True Negative Rate:\", true_negative_rate)"
      ]
    },
    {
      "cell_type": "code",
      "execution_count": null,
      "metadata": {
        "colab": {
          "base_uri": "https://localhost:8080/"
        },
        "id": "2bocw5pEiVI7",
        "outputId": "dd6ec024-77ec-466d-c321-21cb19434df9"
      },
      "outputs": [
        {
          "data": {
            "text/plain": [
              "71.65"
            ]
          },
          "execution_count": 12,
          "metadata": {},
          "output_type": "execute_result"
        }
      ],
      "source": [
        "import xgboost as xgb\n",
        "\n",
        "# Définition du modèle\n",
        "model = xgb.XGBClassifier()\n",
        "\n",
        "# Entraînement du modèle\n",
        "model.fit(Xt, Yt)\n",
        "\n",
        "# Prédiction sur l'ensemble de test\n",
        "y_pred_xgb = model.predict(Xtt)\n",
        "\n",
        "precision = np.mean(Ytt == y_pred_xgb)*100\n",
        "precision"
      ]
    },
    {
      "cell_type": "code",
      "execution_count": null,
      "metadata": {
        "colab": {
          "base_uri": "https://localhost:8080/"
        },
        "id": "GQ6yUoCei53s",
        "outputId": "a8be5d2b-26f8-4375-a3f2-18c217bd077e"
      },
      "outputs": [
        {
          "name": "stdout",
          "output_type": "stream",
          "text": [
            "Accuracy: 0.7165\n",
            "Recall: 0.792909211398277\n",
            "Precision: 0.6898241568175266\n",
            "False Positive Rate: 0.3608316566063045\n",
            "True Negative Rate: 0.6391683433936955\n"
          ]
        }
      ],
      "source": [
        "conf_matrix = confusion_matrix(Ytt, y_pred_xgb)\n",
        "\n",
        "# Calcul de l'accuracy (taux de classification correcte)\n",
        "accuracy = accuracy_score(Ytt, y_pred_xgb)\n",
        "\n",
        "# Calcul du rappel (taux de vrais positifs)\n",
        "recall = recall_score(Ytt, y_pred_xgb)\n",
        "\n",
        "# Calcul de la précision (proportion de vrais positifs parmi les prédictions positives)\n",
        "precision = precision_score(Ytt, y_pred_xgb)\n",
        "\n",
        "# Calcul du taux de faux positifs (taux d'échantillons réels négatifs incorrectement classés comme positifs)\n",
        "false_positive_rate = conf_matrix[0, 1] / (conf_matrix[0, 0] + conf_matrix[0, 1])\n",
        "\n",
        "# Calcul du taux de vrais négatifs (taux d'échantillons réels négatifs correctement classés)\n",
        "true_negative_rate = conf_matrix[0, 0] / (conf_matrix[0, 0] + conf_matrix[0, 1])\n",
        "\n",
        "print(\"Accuracy:\", accuracy)\n",
        "print(\"Recall:\", recall)\n",
        "print(\"Precision:\", precision)\n",
        "print(\"False Positive Rate:\", false_positive_rate)\n",
        "print(\"True Negative Rate:\", true_negative_rate)"
      ]
    },
    {
      "cell_type": "code",
      "execution_count": null,
      "metadata": {
        "colab": {
          "base_uri": "https://localhost:8080/"
        },
        "id": "DaPUxzR-jH74",
        "outputId": "2756f96b-baa4-403c-f499-6a224a4f51e5"
      },
      "outputs": [
        {
          "name": "stdout",
          "output_type": "stream",
          "text": [
            "[LightGBM] [Info] Number of positive: 6982, number of negative: 7018\n",
            "[LightGBM] [Info] Auto-choosing row-wise multi-threading, the overhead of testing was 0.066564 seconds.\n",
            "You can set `force_row_wise=true` to remove the overhead.\n",
            "And if memory is not enough, you can set `force_col_wise=true`.\n",
            "[LightGBM] [Info] Total Bins 1494\n",
            "[LightGBM] [Info] Number of data points in the train set: 14000, number of used features: 747\n",
            "[LightGBM] [Info] [binary:BoostFromScore]: pavg=0.498714 -> initscore=-0.005143\n",
            "[LightGBM] [Info] Start training from score -0.005143\n"
          ]
        },
        {
          "data": {
            "text/plain": [
              "71.65"
            ]
          },
          "execution_count": 13,
          "metadata": {},
          "output_type": "execute_result"
        }
      ],
      "source": [
        "import lightgbm as lgb\n",
        "\n",
        "# Définition du modèle\n",
        "model = lgb.LGBMClassifier()\n",
        "\n",
        "# Entraînement du modèle\n",
        "model.fit(Xt,Yt)\n",
        "\n",
        "# Prédiction sur l'ensemble de test\n",
        "y_pred_lgb = model.predict(Xtt)\n",
        "\n",
        "precision = np.mean(Ytt == y_pred_lgb)*100\n",
        "precision"
      ]
    },
    {
      "cell_type": "code",
      "execution_count": null,
      "metadata": {
        "colab": {
          "base_uri": "https://localhost:8080/"
        },
        "id": "CEvibFyMjVIB",
        "outputId": "1fb1fe82-324b-443a-bb84-5d271c03f20d"
      },
      "outputs": [
        {
          "name": "stdout",
          "output_type": "stream",
          "text": [
            "Accuracy: 0.7165\n",
            "Recall: 0.7823061630218688\n",
            "Precision: 0.6933920704845815\n",
            "False Positive Rate: 0.3501006036217304\n",
            "True Negative Rate: 0.6498993963782697\n"
          ]
        }
      ],
      "source": [
        "conf_matrix = confusion_matrix(Ytt, y_pred_lgb)\n",
        "\n",
        "# Calcul de l'accuracy (taux de classification correcte)\n",
        "accuracy = accuracy_score(Ytt, y_pred_lgb)\n",
        "\n",
        "# Calcul du rappel (taux de vrais positifs)\n",
        "recall = recall_score(Ytt, y_pred_lgb)\n",
        "\n",
        "# Calcul de la précision (proportion de vrais positifs parmi les prédictions positives)\n",
        "precision = precision_score(Ytt, y_pred_lgb)\n",
        "\n",
        "# Calcul du taux de faux positifs (taux d'échantillons réels négatifs incorrectement classés comme positifs)\n",
        "false_positive_rate = conf_matrix[0, 1] / (conf_matrix[0, 0] + conf_matrix[0, 1])\n",
        "\n",
        "# Calcul du taux de vrais négatifs (taux d'échantillons réels négatifs correctement classés)\n",
        "true_negative_rate = conf_matrix[0, 0] / (conf_matrix[0, 0] + conf_matrix[0, 1])\n",
        "\n",
        "print(\"Accuracy:\", accuracy)\n",
        "print(\"Recall:\", recall)\n",
        "print(\"Precision:\", precision)\n",
        "print(\"False Positive Rate:\", false_positive_rate)\n",
        "print(\"True Negative Rate:\", true_negative_rate)"
      ]
    },
    {
      "cell_type": "markdown",
      "metadata": {
        "id": "DVLWEzRIHMho"
      },
      "source": [
        "Partie Deep learning\n",
        "\n",
        "Long Short-Term Memory (LSTM) for sentiment analysis"
      ]
    },
    {
      "cell_type": "code",
      "execution_count": null,
      "metadata": {
        "id": "NPoHZpZGHMho"
      },
      "outputs": [],
      "source": [
        "import numpy as np\n",
        "import pandas as pd\n",
        "from tensorflow.keras.preprocessing.sequence import pad_sequences\n",
        "from sklearn.model_selection import train_test_split\n",
        "from tensorflow.keras.models import Sequential\n",
        "from tensorflow.keras.layers import Embedding, LSTM, Dense, SpatialDropout1D\n",
        "from tensorflow.keras.optimizers import Adam\n",
        "\n",
        "# Charger un sous-ensemble des données prétraitées\n",
        "nrows = 10000  # Limiter le nombre de lignes à charger\n",
        "\n",
        "df1 = pd.read_csv(r'C:\\Users\\HP\\Desktop\\data1.csv', nrows=nrows)\n",
        "df2 = pd.read_csv(r'C:\\Users\\HP\\Desktop\\data2.csv', nrows=nrows)\n",
        "\n",
        "# Combiner les datasets\n",
        "X = np.concatenate((df1.values, df2.values), axis=0)\n",
        "\n",
        "# Charger un sous-ensemble des étiquettes\n",
        "df = pd.read_csv(r'C:\\Users\\HP\\Desktop\\Project AARN\\Projet TP AARN\\training.1600000.processed.noemoticon.csv', header=None, encoding='latin-1', nrows=nrows*2)\n",
        "y = df.iloc[:, 0].values\n",
        "\n",
        "# Sélectionner le même sous-ensemble d'étiquettes que dans les données prétraitées\n",
        "half_index = len(y) // 2\n",
        "y_first_half = y[:df1.shape[0]]\n",
        "y_second_half = y[half_index:half_index + df2.shape[0]]\n",
        "y = np.concatenate((y_first_half, y_second_half), axis=0)\n",
        "y = np.where(y == 4, 1, 0)  # Convertir les étiquettes en binaire\n",
        "\n",
        "# Vérifier que les données ont la bonne forme\n",
        "assert X.shape[0] == y.shape[0], \"Nombre d'échantillons incohérent entre les caractéristiques et les étiquettes\"\n"
      ]
    },
    {
      "cell_type": "code",
      "execution_count": null,
      "metadata": {
        "id": "Z5zFVVPnHMhp"
      },
      "outputs": [],
      "source": [
        "# Déterminer la longueur maximale des séquences dans le dataset\n",
        "max_sequence_length = X.shape[1]\n",
        "\n",
        "# Diviser les données en ensembles d'entraînement et de test\n",
        "X_train, X_test, y_train, y_test = train_test_split(X, y, test_size=0.3, random_state=42)\n"
      ]
    },
    {
      "cell_type": "code",
      "execution_count": null,
      "metadata": {
        "id": "1-eXwpWAHMhq",
        "outputId": "3c92777f-4bb5-4ee9-9512-e10525a27ffd"
      },
      "outputs": [
        {
          "name": "stdout",
          "output_type": "stream",
          "text": [
            "WARNING:tensorflow:From c:\\Python311\\Lib\\site-packages\\keras\\src\\backend.py:873: The name tf.get_default_graph is deprecated. Please use tf.compat.v1.get_default_graph instead.\n",
            "\n"
          ]
        }
      ],
      "source": [
        "# Define the model\n",
        "embedding_dim = 128\n",
        "model = Sequential()\n",
        "model.add(Embedding(input_dim=X.shape[1] + 1, output_dim=embedding_dim, input_length=max_sequence_length))\n",
        "model.add(SpatialDropout1D(0.2))\n",
        "model.add(LSTM(100, dropout=0.2, recurrent_dropout=0.2))\n",
        "model.add(Dense(1, activation='sigmoid'))\n",
        "\n",
        "# Compile the model\n",
        "model.compile(loss='binary_crossentropy', optimizer=Adam(learning_rate=0.001), metrics=['accuracy'])\n"
      ]
    },
    {
      "cell_type": "code",
      "execution_count": null,
      "metadata": {
        "id": "LyrsdpFYHMhr",
        "outputId": "d13a92c7-8181-4418-b046-47be7b81f92e"
      },
      "outputs": [
        {
          "name": "stdout",
          "output_type": "stream",
          "text": [
            "Epoch 1/5\n",
            "WARNING:tensorflow:From c:\\Python311\\Lib\\site-packages\\keras\\src\\utils\\tf_utils.py:492: The name tf.ragged.RaggedTensorValue is deprecated. Please use tf.compat.v1.ragged.RaggedTensorValue instead.\n",
            "\n",
            "WARNING:tensorflow:From c:\\Python311\\Lib\\site-packages\\keras\\src\\engine\\base_layer_utils.py:384: The name tf.executing_eagerly_outside_functions is deprecated. Please use tf.compat.v1.executing_eagerly_outside_functions instead.\n",
            "\n",
            "197/197 - 2013s - loss: 0.0239 - accuracy: 0.9975 - val_loss: 4.4952e-05 - val_accuracy: 1.0000 - 2013s/epoch - 10s/step\n",
            "Epoch 2/5\n",
            "197/197 - 2169s - loss: 3.3949e-05 - accuracy: 1.0000 - val_loss: 2.3721e-05 - val_accuracy: 1.0000 - 2169s/epoch - 11s/step\n",
            "Epoch 3/5\n",
            "197/197 - 2233s - loss: 1.9100e-05 - accuracy: 1.0000 - val_loss: 1.5052e-05 - val_accuracy: 1.0000 - 2233s/epoch - 11s/step\n",
            "Epoch 4/5\n",
            "197/197 - 2319s - loss: 1.3605e-05 - accuracy: 1.0000 - val_loss: 1.1441e-05 - val_accuracy: 1.0000 - 2319s/epoch - 12s/step\n",
            "Epoch 5/5\n",
            "197/197 - 2396s - loss: 1.0553e-05 - accuracy: 1.0000 - val_loss: 9.1033e-06 - val_accuracy: 1.0000 - 2396s/epoch - 12s/step\n"
          ]
        }
      ],
      "source": [
        "# Train the model\n",
        "batch_size = 64\n",
        "epochs = 5\n",
        "history = model.fit(X_train, y_train, epochs=epochs, batch_size=batch_size, validation_split=0.1, verbose=2)\n"
      ]
    },
    {
      "cell_type": "code",
      "execution_count": null,
      "metadata": {
        "id": "Dxd9N34WHMhs",
        "outputId": "623e05bd-d23b-4ca2-eb0f-8516d7dd43fe"
      },
      "outputs": [
        {
          "name": "stdout",
          "output_type": "stream",
          "text": [
            "188/188 - 23s - loss: 9.1032e-06 - accuracy: 1.0000 - 23s/epoch - 125ms/step\n",
            "Test Accuracy: 100.00%\n"
          ]
        }
      ],
      "source": [
        "# Evaluate the model\n",
        "loss, accuracy = model.evaluate(X_test, y_test, verbose=2)\n",
        "print(f'Test Accuracy: {accuracy * 100:.2f}%')\n"
      ]
    }
  ],
  "metadata": {
    "colab": {
      "provenance": []
    },
    "kernelspec": {
      "display_name": "Python 3",
      "name": "python3"
    },
    "language_info": {
      "codemirror_mode": {
        "name": "ipython",
        "version": 3
      },
      "file_extension": ".py",
      "mimetype": "text/x-python",
      "name": "python",
      "nbconvert_exporter": "python",
      "pygments_lexer": "ipython3",
      "version": "3.11.0"
    }
  },
  "nbformat": 4,
  "nbformat_minor": 0
}