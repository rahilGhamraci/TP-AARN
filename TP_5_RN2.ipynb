{
  "cells": [
    {
      "cell_type": "markdown",
      "metadata": {
        "id": "6GARdjnwiY5R"
      },
      "source": [
        "# TP 5 Réseaux de neurones - Multi classification et Propagation en arrière\n",
        "Dans ce TP, nous aimerions entrainer un réseau de neurones pour la tâche de classification en utilisant l'algorithme d propagation en arrière (backpropagation).\n",
        "\n",
        "L'ensemble de données que nous allons utiliser est le même que celui utilisé durant le TP1, i.e. les images de chiffres manuscrits.\n"
      ]
    },
    {
      "cell_type": "markdown",
      "metadata": {
        "id": "w4G2NvBLiY5Z"
      },
      "source": [
        "# Importation des librairies necessaires au travail"
      ]
    },
    {
      "cell_type": "code",
      "execution_count": null,
      "metadata": {
        "id": "lh8q2z_QiY5b"
      },
      "outputs": [],
      "source": [
        "import numpy as np\n",
        "import matplotlib.pyplot as plt\n",
        "from numpy import random\n",
        "import cv2"
      ]
    },
    {
      "cell_type": "markdown",
      "metadata": {
        "id": "2GqldF5OiY5d"
      },
      "source": [
        "# Lecture des fichiers de données\n",
        "Pour ce TP, nous allons lire les données à partir d'un fichier csv."
      ]
    },
    {
      "cell_type": "code",
      "execution_count": null,
      "metadata": {
        "colab": {
          "base_uri": "https://localhost:8080/"
        },
        "id": "gFXTNwsTiY5f",
        "outputId": "d4818583-2ec4-4fe8-cb0b-da288bdf64a6"
      },
      "outputs": [
        {
          "data": {
            "text/plain": [
              "(5000, 401)"
            ]
          },
          "execution_count": 2,
          "metadata": {},
          "output_type": "execute_result"
        }
      ],
      "source": [
        "# données\n",
        "data = np.genfromtxt('data.csv', delimiter=',', dtype=float)\n",
        "data.shape"
      ]
    },
    {
      "cell_type": "markdown",
      "metadata": {
        "id": "-Iv1By5giY5h"
      },
      "source": [
        "Dans ces données (data), les 400 premières colonnes representent les pixels de l'image (20x20), la dernière colonne represente la classe de l'image (chiffres de 0 à 9). (http://yann.lecun.com/exdb/mnist/)\n",
        "\n",
        "Chaque ligne represente un exemple de notre ensemble de données.\n",
        "\n",
        "Mettons ces données dans leus vecteurs correspondants."
      ]
    },
    {
      "cell_type": "code",
      "execution_count": null,
      "metadata": {
        "id": "k5U9tps5iY5i"
      },
      "outputs": [],
      "source": [
        "# rajoutons l'ordonnée à l'origine theta 0\n",
        "intercept=np.ones((data.shape[0],1))\n",
        "X=np.column_stack((intercept,data[:,:-1]))\n",
        "y=data[:,-1]\n",
        "# forcer y à avoir une seule colonne\n",
        "y = y.reshape( y.shape[0], 1)"
      ]
    },
    {
      "cell_type": "code",
      "execution_count": null,
      "metadata": {
        "colab": {
          "base_uri": "https://localhost:8080/"
        },
        "id": "eWEM55OkiY5l",
        "outputId": "09ff2bfd-38e0-454b-9e3c-3b09dc59e48c"
      },
      "outputs": [
        {
          "name": "stdout",
          "output_type": "stream",
          "text": [
            "X (5000, 401)  y  (5000, 1)\n"
          ]
        }
      ],
      "source": [
        "print('X', X.shape ,' y ', y.shape)"
      ]
    },
    {
      "cell_type": "markdown",
      "metadata": {
        "id": "s7XTheusiY5m"
      },
      "source": [
        "Visualisation aléatoire de quelques données"
      ]
    },
    {
      "cell_type": "code",
      "execution_count": null,
      "metadata": {
        "colab": {
          "base_uri": "https://localhost:8080/",
          "height": 127
        },
        "id": "MENH5goFiY5n",
        "outputId": "9022bd6b-4e7c-4107-b00e-48a1a7dcb7f5"
      },
      "outputs": [
        {
          "data": {
            "image/png": "[encoded data removed]",
            "text/plain": [
              "<Figure size 1500x800 with 13 Axes>"
            ]
          },
          "metadata": {},
          "output_type": "display_data"
        }
      ],
      "source": [
        "plt.figure(figsize=(15,8))\n",
        "for i in range(13):\n",
        "    c = random.randint(X.shape[0])\n",
        "    a = X[c,1:].reshape((20, 20))\n",
        "    a=np.transpose(a)\n",
        "    plt.subplot(1,13,i+1)\n",
        "    plt.title('label '+ str(y[c]))\n",
        "    plt.imshow(a,cmap='gray')"
      ]
    },
    {
      "cell_type": "markdown",
      "metadata": {
        "id": "zw7xNIi7iY5p"
      },
      "source": [
        "Transformer y de tel sorte à avoir un vecteur pour chaque exemple\n",
        "\n",
        "Equivalent de tocategorical"
      ]
    },
    {
      "cell_type": "code",
      "execution_count": null,
      "metadata": {
        "colab": {
          "base_uri": "https://localhost:8080/"
        },
        "id": "iM5RTNRkiY5q",
        "outputId": "ad0269f0-b414-4011-bdab-6d2528b2a424"
      },
      "outputs": [
        {
          "data": {
            "text/plain": [
              "(5000, 10)"
            ]
          },
          "execution_count": 6,
          "metadata": {},
          "output_type": "execute_result"
        }
      ],
      "source": [
        "YY=np.zeros((y.shape[0], int(np.max(y))+1))\n",
        "YY.shape"
      ]
    },
    {
      "cell_type": "code",
      "execution_count": null,
      "metadata": {
        "colab": {
          "base_uri": "https://localhost:8080/"
        },
        "id": "HwNIQRWDiY5s",
        "outputId": "97d9602b-3d09-4ed8-ed60-5d4023dff075"
      },
      "outputs": [
        {
          "name": "stderr",
          "output_type": "stream",
          "text": [
            "<ipython-input-7-c82e5b32972d>:2: DeprecationWarning: Conversion of an array with ndim > 0 to a scalar is deprecated, and will error in future. Ensure you extract a single element from your array before performing this operation. (Deprecated NumPy 1.25.)\n",
            "  YY[i,int(y[i])]=1\n"
          ]
        }
      ],
      "source": [
        "for i in range (YY.shape[0]):\n",
        "    YY[i,int(y[i])]=1"
      ]
    },
    {
      "cell_type": "markdown",
      "metadata": {
        "id": "6VmrcbHWiY5t"
      },
      "source": [
        "# Réseaux de neurones\n",
        "Pour cette partie, nous choisissons une réseau simple:\n",
        "\n",
        "- une couche d'entrée avec 400 noeuds (20 x 20 pixels) + le biais\n",
        "- une couche cachée avec 25 noeuds\n",
        "- une couche de sortie avec 10 noeuds (nombre de classes)"
      ]
    },
    {
      "cell_type": "code",
      "execution_count": null,
      "metadata": {
        "colab": {
          "base_uri": "https://localhost:8080/"
        },
        "id": "ePGyjVOhiY5u",
        "outputId": "5e0e6e4c-4f2a-4c10-f291-6186a64cb218"
      },
      "outputs": [
        {
          "data": {
            "text/plain": [
              "(25, 401)"
            ]
          },
          "execution_count": 8,
          "metadata": {},
          "output_type": "execute_result"
        }
      ],
      "source": [
        "# poids de la couche 1\n",
        "W1 = np.genfromtxt('W1(1).csv', delimiter=',', dtype=float)\n",
        "W1.shape\n"
      ]
    },
    {
      "cell_type": "code",
      "execution_count": null,
      "metadata": {
        "colab": {
          "base_uri": "https://localhost:8080/"
        },
        "id": "Gf0UcKZEiY5w",
        "outputId": "26f73759-09de-4215-95cf-6d2cfdc7dabc"
      },
      "outputs": [
        {
          "data": {
            "text/plain": [
              "(10, 26)"
            ]
          },
          "execution_count": 9,
          "metadata": {},
          "output_type": "execute_result"
        }
      ],
      "source": [
        "# poids de la couche 2\n",
        "W2 = np.genfromtxt('W2(1).csv', delimiter=',', dtype=float)\n",
        "W2.shape"
      ]
    },
    {
      "cell_type": "code",
      "execution_count": null,
      "metadata": {
        "id": "Bnxpa3_fiY5x"
      },
      "outputs": [],
      "source": [
        "input_layer_size  = 400\n",
        "hidden_layer_size = 25\n",
        "num_labels = 10"
      ]
    },
    {
      "cell_type": "markdown",
      "metadata": {
        "id": "zAPHHWDXiY5z"
      },
      "source": [
        "# Calcul du coût"
      ]
    },
    {
      "cell_type": "markdown",
      "metadata": {
        "id": "LqRomqPeiY53"
      },
      "source": [
        "# TODO  1 calcul du coût\n",
        "**Tâche 1**: Modifier la fonction computeCost afin d'obtenir un coût avec régularisation\n",
        "\n",
        "Rappelons que le coût avec régularisation est calculé comme suit:\n",
        "\n",
        "$ J(\\theta)= \\frac{1}{m} \\sum_{i=1}^m\\sum_{k=1}^K \\left[ -y_k^{(i)} \\log (h_\\theta(x^{(i)}) )_k - (1-y_k^{(i)}) \\log (1-h_\\theta(x^{(i)}) )_k \\right] + \\frac{\\lambda}{2m} \\left[ \\sum_{j=1}^{25}\\sum_{k=1}^{400} \\left( \\theta_{j,k}^{(1)} \\right)^2 +   \\sum_{j=1}^{10}\\sum_{k=1}^{25} \\left( \\theta_{j,k}^{(2)} \\right)^2 \\right] $"
      ]
    },
    {
      "cell_type": "code",
      "execution_count": null,
      "metadata": {
        "id": "lp2fCxqZiY54"
      },
      "outputs": [],
      "source": [
        "def Sigmoid(z):\n",
        "    # pour une valeur donnée, cette fonction calculera sa sigmoid\n",
        "    return 1/(1+np.exp(-z))"
      ]
    },
    {
      "cell_type": "code",
      "execution_count": null,
      "metadata": {
        "id": "abbyTLYEiY55"
      },
      "outputs": [],
      "source": [
        "def computeCost(X, YY, theta1, theta2,hidden_layer_size, lambda_):\n",
        "    a1=X;\n",
        "\n",
        "    z2= np.zeros((X.shape[0],hidden_layer_size))\n",
        "    a2= np.zeros((X.shape[0],hidden_layer_size))\n",
        "\n",
        "    intercept=np.ones((X.shape[0],1))\n",
        "    z2=np.column_stack((intercept,np.matmul(a1,np.transpose(theta1))))\n",
        "    a2=Sigmoid(z2)\n",
        "    a2[:,0]=1\n",
        "\n",
        "    z3= np.zeros((YY.shape[0],YY.shape[1]))\n",
        "    a3= np.zeros((YY.shape[0],YY.shape[1]))\n",
        "\n",
        "    z3=np.matmul(a2,np.transpose(theta2))\n",
        "    a3=Sigmoid(z3)\n",
        "\n",
        "    J=np.zeros((YY.shape[0],1))\n",
        "    J= (1/y.shape[0])*(np.sum(np.sum((-YY*np.log(a3))-((1-YY)*np.log(1-a3)))))\n",
        "\n",
        "    return J"
      ]
    },
    {
      "cell_type": "markdown",
      "metadata": {
        "id": "OII81UURiY56"
      },
      "source": [
        "# TODO  2 calcul du gradient\n",
        "**Tâche 2**: Implémenter la fonction NNCostFunction afin de retourner:\n",
        "\n",
        "- Le coût avec régularisation\n",
        "- Le gardient du coût par rapport à chaqu'un des paramètres du réseau\n",
        "\n",
        "Rappelons le gradient de la sigmoid:\n",
        "\n",
        "$ sigmoid(z) =\\sigma(z)= \\frac{1}{1-e^{-z}}$\n",
        "\n",
        "$ \\sigma(z)^\\prime = \\sigma(z)(1-\\sigma(z)) =a(1-a)$ tel que $a$ est l'activation d'une couche donnée\n",
        "\n",
        "L'algorithme à implementer est comme suit:\n",
        "\n",
        "Pour chaque exemple de l'ensemble d'apprentissage faire\n",
        "\n",
        "Pour chaque noeud de la couche de sortie, calculer la dérivée (gradient):\n",
        "\n",
        "$\\delta_k^{(3)} = \\left( a_k^{(3)}- y_k \\right)  $\n",
        "\n",
        "Pour chaque noeud de la couche caché calculer la dérivée (gradient):\n",
        "\n",
        "$\\delta^{(2)} =  \\left(\\Theta^{(2)}\\right)^T \\delta^{(3)} \\quad .* \\quad \\sigma^\\prime\\left(z^{(2)} \\right) $\n",
        "\n",
        "Notons que l'opérateur $.*$ represente la multiplication élement par élement et non pas la multiplication matricielle\n",
        "\n",
        "Le gradient de chaque noeud et de chaque couche sera finalement:\n",
        "\n",
        "$\\Delta^{(l)} =  \\Delta^{(l)} + \\delta^{(l)} * \\left( a^{(l)} \\right)^T $\n",
        "\n",
        "Fin pour\n",
        "\n",
        "Fin pour\n",
        "\n",
        "Diviser le gradient cumulé par le nombre d'exemples:\n",
        "\n",
        "$ \\frac{\\partial J(\\Theta)} { \\partial \\Theta_{i,j)}^{(l)}} = \\frac{1}{m} \\Delta_{i,j)}^{(l)}$\n"
      ]
    },
    {
      "cell_type": "code",
      "execution_count": null,
      "metadata": {
        "id": "4bTUqJW59Sb4"
      },
      "outputs": [],
      "source": [
        "def sigmoid_gradient(z):\n",
        "    return Sigmoid(z) * (1 - Sigmoid(z))"
      ]
    },
    {
      "cell_type": "code",
      "execution_count": null,
      "metadata": {
        "id": "I7DZy9w7iY57"
      },
      "outputs": [],
      "source": [
        "def NNCostFunction(X, YY, theta1, theta2, hidden_layer_size, lambda_= 0):\n",
        "    m = len(X)  # Nombre d'exemples d'entraînement\n",
        "\n",
        "    # Initialisation du coût et du gradient\n",
        "    J = 0\n",
        "    theta1_grad = np.zeros_like(theta1)\n",
        "    theta2_grad = np.zeros_like(theta2)\n",
        "\n",
        "    # Calcul de l'activation de la couche cachée\n",
        "    z1 = np.matmul(X, theta1.T)\n",
        "    a1 = Sigmoid(z1)\n",
        "\n",
        "    intercept = np.ones((X.shape[0], 1))\n",
        "    a1_with_intercept = np.concatenate((intercept,a1), axis=1)\n",
        "\n",
        "    # Calcul de l'activation de la couche de sortie\n",
        "    a2 = Sigmoid(np.matmul(a1_with_intercept, theta2.T))\n",
        "\n",
        "    # Calcul du coût\n",
        "    J = (-1 / m) * np.sum(YY * np.log(a2) + (1 - YY) * np.log(1 - a2))\n",
        "\n",
        "    # Calcul de la régularisation\n",
        "    reg_term = (lambda_ / (2 * m)) * (np.sum(np.square(theta1[:, 1:])) + np.sum(np.square(theta2[:, 1:])))\n",
        "    J += reg_term\n",
        "\n",
        "    # Backpropagation\n",
        "    delta3 = a2 - YY\n",
        "    delta2 = np.dot(delta3, theta2)[:, 1:] * sigmoid_gradient(z1)\n",
        "\n",
        "    # Gradient pour theta2\n",
        "    theta2_grad = (1 / m) * np.dot(delta3.T, a1_with_intercept)\n",
        "\n",
        "    # Gradient pour theta1\n",
        "    theta1_grad = (1 / m) * np.dot(delta2.T, X)\n",
        "\n",
        "    return J, [theta1_grad, theta2_grad]\n",
        "\n"
      ]
    },
    {
      "cell_type": "markdown",
      "metadata": {
        "id": "gmzBtL_siY57"
      },
      "source": [
        "# TODO  3 entrainement du réseau\n",
        "**Tâche 3**: Entrainer le réseau en utilisant la descente du gradient:\n",
        "Ici il faudra reprendre l'algorithme de la descente du gradient afin de mettre à jour les paramètres du réseau\n"
      ]
    },
    {
      "cell_type": "code",
      "execution_count": null,
      "metadata": {
        "id": "qm-FHE3piY5-"
      },
      "outputs": [],
      "source": [
        "def gradientDescent(X, y, theta, alpha, iterations,lambda_= 0):\n",
        "  # garder aussi le cout à chaque itération\n",
        "  # pour afficher le coût en fonction de theta0 et theta1\n",
        "  theta0_list = []\n",
        "  theta1_list = []\n",
        "  cost_list = []\n",
        "\n",
        "  for _ in range(iterations):\n",
        "    cout , d = NNCostFunction(X, y, theta[0], theta[1], hidden_layer_size, lambda_)\n",
        "    theta[0] = theta[0] - alpha * d[0]\n",
        "    theta[1] = theta[1] - alpha * d[1]\n",
        "\n",
        "    theta0_list.append(theta[0])\n",
        "    theta1_list.append(theta[1])\n",
        "    cost_list.append(cout)\n",
        "\n",
        "  return theta,cost_list,theta0_list,theta1_list\n"
      ]
    },
    {
      "cell_type": "code",
      "execution_count": null,
      "metadata": {
        "id": "FA12g7YDi4Xv"
      },
      "outputs": [],
      "source": [
        "def tracer_cout_it(cost_list):\n",
        "  iterations = range(1, len(cost_list) + 1)\n",
        "  # Tracer le graphe du coût en fonction du nombre d'itérations\n",
        "  plt.plot(iterations, cost_list, marker='o', linestyle='-')\n",
        "\n",
        "  plt.xlabel('Nombre d\\'itérations')\n",
        "  plt.ylabel('Coût')\n",
        "\n",
        "  plt.title('Évolution du coût en fonction du nombre d\\'itérations')\n",
        "\n",
        "  plt.grid(True)\n",
        "\n",
        "  plt.show()"
      ]
    },
    {
      "cell_type": "code",
      "execution_count": null,
      "metadata": {
        "id": "n5v1edYoca12"
      },
      "outputs": [],
      "source": [
        "iterations = 500\n",
        "alpha = 1.5\n",
        "theta = [np.random.normal(0, np.sqrt(1/212), W1.shape), np.random.normal(0, np.sqrt(1/17), W2.shape)]\n",
        "\n",
        "theta, costs, theta0_list, theta1_list = gradientDescent(X, YY, theta, alpha, iterations)"
      ]
    },
    {
      "cell_type": "code",
      "execution_count": null,
      "metadata": {
        "colab": {
          "base_uri": "https://localhost:8080/",
          "height": 472
        },
        "id": "cQzxFZkMi9h-",
        "outputId": "1eeb9cd7-4aa0-4cda-cd0a-295d529c98a1"
      },
      "outputs": [
        {
          "output_type": "display_data",
          "data": {
            "text/plain": [
              "<Figure size 640x480 with 1 Axes>"
            ],
            "image/png": "[encoded data removed]"
          },
          "metadata": {}
        }
      ],
      "source": [
        "tracer_cout_it(costs)"
      ]
    },
    {
      "cell_type": "code",
      "execution_count": null,
      "metadata": {
        "colab": {
          "base_uri": "https://localhost:8080/"
        },
        "id": "1E_tTvmS25-l",
        "outputId": "29cab77e-b988-40d8-94ef-df2705c1d6c6"
      },
      "outputs": [
        {
          "output_type": "execute_result",
          "data": {
            "text/plain": [
              "0.38823918917304345"
            ]
          },
          "metadata": {},
          "execution_count": 65
        }
      ],
      "source": [
        "computeCost(X, YY, theta[0], theta[1], hidden_layer_size, 0)"
      ]
    },
    {
      "cell_type": "markdown",
      "metadata": {
        "id": "hNV3I5LGiY5_"
      },
      "source": [
        "# TODO 4 : Régularisation\n",
        "Mettre à jour le calcul du coût en ajoutant le terme de régularisation et comparer les résultats (avec et sans régularisation)"
      ]
    },
    {
      "cell_type": "code",
      "execution_count": null,
      "metadata": {
        "id": "S4KPXc0siY6B"
      },
      "outputs": [],
      "source": [
        "iterations = 500\n",
        "alpha = 1.5\n",
        "theta_reg = [np.random.normal(0, np.sqrt(1/212), W1.shape), np.random.normal(0, np.sqrt(1/17), W2.shape)]\n",
        "\n",
        "theta_reg, costs, theta0_list, theta1_list = gradientDescent(X, YY, theta, alpha, iterations,lambda_=1)"
      ]
    },
    {
      "cell_type": "markdown",
      "metadata": {
        "id": "S2QYG5VjiY6D"
      },
      "source": [
        "# TODO 5 : Prédiction\n",
        "\n",
        "Appliquer une propagation en avant en utilisant les paramètres données pour prédir les classes de l'ensemble d'apprentissage.\n",
        "\n"
      ]
    },
    {
      "cell_type": "code",
      "execution_count": null,
      "metadata": {
        "id": "SxrDQs4xiY6G"
      },
      "outputs": [],
      "source": [
        "def predict(W1, W2, X):\n",
        "\n",
        "    # Calcul de l'activation de la couche cachée\n",
        "    a1 = Sigmoid(np.matmul(X, W1.T))\n",
        "\n",
        "    intercept = np.ones((X.shape[0], 1))\n",
        "    a1_with_intercept = np.concatenate((intercept,a1), axis=1)\n",
        "\n",
        "    # Calcul de l'activation de la couche de sortie\n",
        "    a2 = Sigmoid(np.matmul(a1_with_intercept, W2.T))\n",
        "\n",
        "    # Choix de la classe prédite\n",
        "    y_pred = np.argmax(a2, axis=1)[..., np.newaxis]\n",
        "\n",
        "    return y_pred"
      ]
    },
    {
      "cell_type": "code",
      "execution_count": null,
      "metadata": {
        "colab": {
          "base_uri": "https://localhost:8080/"
        },
        "id": "JtaEiMF8iY6J",
        "outputId": "f8441a72-679b-4ce4-8573-9ffc8bc2111e"
      },
      "outputs": [
        {
          "output_type": "execute_result",
          "data": {
            "text/plain": [
              "97.22"
            ]
          },
          "metadata": {},
          "execution_count": 68
        }
      ],
      "source": [
        "# calcul de precision = nombre de valeurs bien prédites (ici sur toute la base X)\n",
        "y_pred = predict(theta[0], theta[1], X)\n",
        "precision = np.mean(y==y_pred)*100\n",
        "precision"
      ]
    },
    {
      "cell_type": "code",
      "source": [
        "# calcul de precision = nombre de valeurs bien prédites (ici sur toute la base X)\n",
        "y_pred = predict(theta_reg[0], theta_reg[1], X)\n",
        "precision = np.mean(y==y_pred)*100\n",
        "precision"
      ],
      "metadata": {
        "colab": {
          "base_uri": "https://localhost:8080/"
        },
        "id": "UhoxBITA-SmX",
        "outputId": "055de53c-358e-4d80-b8bf-588eed80f85e"
      },
      "execution_count": null,
      "outputs": [
        {
          "output_type": "execute_result",
          "data": {
            "text/plain": [
              "97.22"
            ]
          },
          "metadata": {},
          "execution_count": 69
        }
      ]
    },
    {
      "cell_type": "markdown",
      "metadata": {
        "id": "ViaVE9KaiY6K"
      },
      "source": [
        "# optionnel 1 : Vérification de l'implementation\n",
        "Comparer vos algorithmes à ceux de scikitlearn"
      ]
    },
    {
      "cell_type": "code",
      "execution_count": null,
      "metadata": {
        "colab": {
          "base_uri": "https://localhost:8080/"
        },
        "id": "aAVMRo8AiY6L",
        "outputId": "443fd3be-916e-4d42-9944-b360bc5ee96e"
      },
      "outputs": [
        {
          "name": "stderr",
          "output_type": "stream",
          "text": [
            "/usr/local/lib/python3.10/dist-packages/sklearn/neural_network/_multilayer_perceptron.py:1098: DataConversionWarning: A column-vector y was passed when a 1d array was expected. Please change the shape of y to (n_samples, ), for example using ravel().\n",
            "  y = column_or_1d(y, warn=True)\n"
          ]
        },
        {
          "name": "stdout",
          "output_type": "stream",
          "text": [
            "Précision du modèle : 93.46%\n"
          ]
        }
      ],
      "source": [
        "from sklearn.neural_network import MLPClassifier\n",
        "from sklearn.metrics import accuracy_score\n",
        "\n",
        "\n",
        "model = MLPClassifier(hidden_layer_sizes=(hidden_layer_size,), activation='logistic', solver='sgd', max_iter=10000)\n",
        "\n",
        "# Entraîner le modèle avec les données\n",
        "model.fit(X, y)\n",
        "\n",
        "# Prédire les classes avec les données X\n",
        "y_pred = model.predict(X)\n",
        "\n",
        "# Calculer la précision\n",
        "precision = accuracy_score(y, y_pred)\n",
        "\n",
        "print(\"Précision du modèle : {:.2f}%\".format(precision * 100))"
      ]
    },
    {
      "cell_type": "markdown",
      "metadata": {
        "id": "EvAMr7jOiY6N"
      },
      "source": [
        "# Optionnel 2 : Renforcement de l'apprentissage\n",
        "Mettre ici toute idée qui pourrait renforcer votre apprentissage"
      ]
    },
    {
      "cell_type": "code",
      "execution_count": null,
      "metadata": {
        "id": "8NwpCKu5iY6N"
      },
      "outputs": [],
      "source": []
    }
  ],
  "metadata": {
    "colab": {
      "provenance": []
    },
    "kernelspec": {
      "display_name": "Python 3",
      "language": "python",
      "name": "python3"
    },
    "language_info": {
      "codemirror_mode": {
        "name": "ipython",
        "version": 3
      },
      "file_extension": ".py",
      "mimetype": "text/x-python",
      "name": "python",
      "nbconvert_exporter": "python",
      "pygments_lexer": "ipython3",
      "version": "3.7.3"
    }
  },
  "nbformat": 4,
  "nbformat_minor": 0
}