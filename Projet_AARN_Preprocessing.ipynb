{
  "cells": [
    {
      "cell_type": "markdown",
      "source": [
        "Travail réalisé par :\n",
        "                GHAMRACI RAHIL G1 202031025179 et\n",
        "                BENZEMRANE LYDIA G1 202031084177"
      ],
      "metadata": {
        "id": "-VJNbLmWFQAj"
      }
    },
    {
      "cell_type": "code",
      "execution_count": null,
      "metadata": {
        "id": "pfIqYyOa4IyM"
      },
      "outputs": [],
      "source": [
        "import numpy as np\n",
        "import matplotlib.pyplot as plt\n",
        "import pandas as pd\n",
        "from sklearn.model_selection import train_test_split\n",
        "import nltk\n",
        "import re\n",
        "from nltk.stem import PorterStemmer # bib utilisée pour la radicalisation\n",
        "from nltk.corpus import stopwords # bib utilisée pour l'élimination des mots vides\n",
        "from collections import Counter\n",
        "from nltk.corpus import wordnet"
      ]
    },
    {
      "cell_type": "code",
      "execution_count": null,
      "metadata": {
        "colab": {
          "base_uri": "https://localhost:8080/"
        },
        "id": "ANMleh3Vhu7b",
        "outputId": "fc3c23ea-3062-49d4-cbdf-0988e8414a30"
      },
      "outputs": [
        {
          "output_type": "stream",
          "name": "stderr",
          "text": [
            "[nltk_data] Downloading package punkt to /root/nltk_data...\n",
            "[nltk_data]   Package punkt is already up-to-date!\n"
          ]
        }
      ],
      "source": [
        "nltk.download('punkt')\n",
        "from nltk.tokenize import word_tokenize"
      ]
    },
    {
      "cell_type": "code",
      "execution_count": null,
      "metadata": {
        "colab": {
          "base_uri": "https://localhost:8080/"
        },
        "id": "B_x8OMWfsviL",
        "outputId": "477da232-2708-444c-fd52-d679346193b6"
      },
      "outputs": [
        {
          "output_type": "stream",
          "name": "stderr",
          "text": [
            "[nltk_data] Downloading package stopwords to /root/nltk_data...\n",
            "[nltk_data]   Package stopwords is already up-to-date!\n"
          ]
        },
        {
          "output_type": "execute_result",
          "data": {
            "text/plain": [
              "True"
            ]
          },
          "metadata": {},
          "execution_count": 3
        }
      ],
      "source": [
        "nltk.download('stopwords')"
      ]
    },
    {
      "cell_type": "code",
      "source": [
        "nltk.download('wordnet')"
      ],
      "metadata": {
        "colab": {
          "base_uri": "https://localhost:8080/"
        },
        "id": "6cvFhE7VLH-6",
        "outputId": "7f372801-35db-4dd2-a461-10b7c8e436c7"
      },
      "execution_count": null,
      "outputs": [
        {
          "output_type": "stream",
          "name": "stderr",
          "text": [
            "[nltk_data] Downloading package wordnet to /root/nltk_data...\n",
            "[nltk_data]   Package wordnet is already up-to-date!\n"
          ]
        },
        {
          "output_type": "execute_result",
          "data": {
            "text/plain": [
              "True"
            ]
          },
          "metadata": {},
          "execution_count": 4
        }
      ]
    },
    {
      "cell_type": "code",
      "execution_count": null,
      "metadata": {
        "colab": {
          "base_uri": "https://localhost:8080/"
        },
        "id": "gQ48iQCX4hj6",
        "outputId": "f4587a57-81fa-4736-9710-dcc2c4ba5440"
      },
      "outputs": [
        {
          "output_type": "execute_result",
          "data": {
            "text/plain": [
              "(1600000, 6)"
            ]
          },
          "metadata": {},
          "execution_count": 5
        }
      ],
      "source": [
        "# lecture des données\n",
        "df = pd.read_csv('training.1600000.processed.noemoticon.csv', header=None, encoding='latin-1')\n",
        "df.head()\n",
        "df.shape"
      ]
    },
    {
      "cell_type": "code",
      "execution_count": null,
      "metadata": {
        "colab": {
          "base_uri": "https://localhost:8080/",
          "height": 206
        },
        "id": "jPIKq-Rf6BuM",
        "outputId": "965d6f6b-c9ed-43e9-b3fc-2af86079d5f8"
      },
      "outputs": [
        {
          "output_type": "execute_result",
          "data": {
            "text/plain": [
              "   0                                                  5\n",
              "0  0  @switchfoot http://twitpic.com/2y1zl - Awww, t...\n",
              "1  0  is upset that he can't update his Facebook by ...\n",
              "2  0  @Kenichan I dived many times for the ball. Man...\n",
              "3  0    my whole body feels itchy and like its on fire \n",
              "4  0  @nationwideclass no, it's not behaving at all...."
            ],
            "text/html": [
              "\n",
              "  <div id=\"df-bd9e2bd1-fb92-4c9e-bb1a-52227f6015ca\" class=\"colab-df-container\">\n",
              "    <div>\n",
              "<style scoped>\n",
              "    .dataframe tbody tr th:only-of-type {\n",
              "        vertical-align: middle;\n",
              "    }\n",
              "\n",
              "    .dataframe tbody tr th {\n",
              "        vertical-align: top;\n",
              "    }\n",
              "\n",
              "    .dataframe thead th {\n",
              "        text-align: right;\n",
              "    }\n",
              "</style>\n",
              "<table border=\"1\" class=\"dataframe\">\n",
              "  <thead>\n",
              "    <tr style=\"text-align: right;\">\n",
              "      <th></th>\n",
              "      <th>0</th>\n",
              "      <th>5</th>\n",
              "    </tr>\n",
              "  </thead>\n",
              "  <tbody>\n",
              "    <tr>\n",
              "      <th>0</th>\n",
              "      <td>0</td>\n",
              "      <td>@switchfoot http://twitpic.com/2y1zl - Awww, t...</td>\n",
              "    </tr>\n",
              "    <tr>\n",
              "      <th>1</th>\n",
              "      <td>0</td>\n",
              "      <td>is upset that he can't update his Facebook by ...</td>\n",
              "    </tr>\n",
              "    <tr>\n",
              "      <th>2</th>\n",
              "      <td>0</td>\n",
              "      <td>@Kenichan I dived many times for the ball. Man...</td>\n",
              "    </tr>\n",
              "    <tr>\n",
              "      <th>3</th>\n",
              "      <td>0</td>\n",
              "      <td>my whole body feels itchy and like its on fire</td>\n",
              "    </tr>\n",
              "    <tr>\n",
              "      <th>4</th>\n",
              "      <td>0</td>\n",
              "      <td>@nationwideclass no, it's not behaving at all....</td>\n",
              "    </tr>\n",
              "  </tbody>\n",
              "</table>\n",
              "</div>\n",
              "    <div class=\"colab-df-buttons\">\n",
              "\n",
              "  <div class=\"colab-df-container\">\n",
              "    <button class=\"colab-df-convert\" onclick=\"convertToInteractive('df-bd9e2bd1-fb92-4c9e-bb1a-52227f6015ca')\"\n",
              "            title=\"Convert this dataframe to an interactive table.\"\n",
              "            style=\"display:none;\">\n",
              "\n",
              "  <svg xmlns=\"http://www.w3.org/2000/svg\" height=\"24px\" viewBox=\"0 -960 960 960\">\n",
              "    <path d=\"M120-120v-720h720v720H120Zm60-500h600v-160H180v160Zm220 220h160v-160H400v160Zm0 220h160v-160H400v160ZM180-400h160v-160H180v160Zm440 0h160v-160H620v160ZM180-180h160v-160H180v160Zm440 0h160v-160H620v160Z\"/>\n",
              "  </svg>\n",
              "    </button>\n",
              "\n",
              "  <style>\n",
              "    .colab-df-container {\n",
              "      display:flex;\n",
              "      gap: 12px;\n",
              "    }\n",
              "\n",
              "    .colab-df-convert {\n",
              "      background-color: #E8F0FE;\n",
              "      border: none;\n",
              "      border-radius: 50%;\n",
              "      cursor: pointer;\n",
              "      display: none;\n",
              "      fill: #1967D2;\n",
              "      height: 32px;\n",
              "      padding: 0 0 0 0;\n",
              "      width: 32px;\n",
              "    }\n",
              "\n",
              "    .colab-df-convert:hover {\n",
              "      background-color: #E2EBFA;\n",
              "      box-shadow: 0px 1px 2px rgba(60, 64, 67, 0.3), 0px 1px 3px 1px rgba(60, 64, 67, 0.15);\n",
              "      fill: #174EA6;\n",
              "    }\n",
              "\n",
              "    .colab-df-buttons div {\n",
              "      margin-bottom: 4px;\n",
              "    }\n",
              "\n",
              "    [theme=dark] .colab-df-convert {\n",
              "      background-color: #3B4455;\n",
              "      fill: #D2E3FC;\n",
              "    }\n",
              "\n",
              "    [theme=dark] .colab-df-convert:hover {\n",
              "      background-color: #434B5C;\n",
              "      box-shadow: 0px 1px 3px 1px rgba(0, 0, 0, 0.15);\n",
              "      filter: drop-shadow(0px 1px 2px rgba(0, 0, 0, 0.3));\n",
              "      fill: #FFFFFF;\n",
              "    }\n",
              "  </style>\n",
              "\n",
              "    <script>\n",
              "      const buttonEl =\n",
              "        document.querySelector('#df-bd9e2bd1-fb92-4c9e-bb1a-52227f6015ca button.colab-df-convert');\n",
              "      buttonEl.style.display =\n",
              "        google.colab.kernel.accessAllowed ? 'block' : 'none';\n",
              "\n",
              "      async function convertToInteractive(key) {\n",
              "        const element = document.querySelector('#df-bd9e2bd1-fb92-4c9e-bb1a-52227f6015ca');\n",
              "        const dataTable =\n",
              "          await google.colab.kernel.invokeFunction('convertToInteractive',\n",
              "                                                    [key], {});\n",
              "        if (!dataTable) return;\n",
              "\n",
              "        const docLinkHtml = 'Like what you see? Visit the ' +\n",
              "          '<a target=\"_blank\" href=https://colab.research.google.com/notebooks/data_table.ipynb>data table notebook</a>'\n",
              "          + ' to learn more about interactive tables.';\n",
              "        element.innerHTML = '';\n",
              "        dataTable['output_type'] = 'display_data';\n",
              "        await google.colab.output.renderOutput(dataTable, element);\n",
              "        const docLink = document.createElement('div');\n",
              "        docLink.innerHTML = docLinkHtml;\n",
              "        element.appendChild(docLink);\n",
              "      }\n",
              "    </script>\n",
              "  </div>\n",
              "\n",
              "\n",
              "<div id=\"df-40125929-3308-4176-8c46-51bd7a46d9d4\">\n",
              "  <button class=\"colab-df-quickchart\" onclick=\"quickchart('df-40125929-3308-4176-8c46-51bd7a46d9d4')\"\n",
              "            title=\"Suggest charts\"\n",
              "            style=\"display:none;\">\n",
              "\n",
              "<svg xmlns=\"http://www.w3.org/2000/svg\" height=\"24px\"viewBox=\"0 0 24 24\"\n",
              "     width=\"24px\">\n",
              "    <g>\n",
              "        <path d=\"M19 3H5c-1.1 0-2 .9-2 2v14c0 1.1.9 2 2 2h14c1.1 0 2-.9 2-2V5c0-1.1-.9-2-2-2zM9 17H7v-7h2v7zm4 0h-2V7h2v10zm4 0h-2v-4h2v4z\"/>\n",
              "    </g>\n",
              "</svg>\n",
              "  </button>\n",
              "\n",
              "<style>\n",
              "  .colab-df-quickchart {\n",
              "      --bg-color: #E8F0FE;\n",
              "      --fill-color: #1967D2;\n",
              "      --hover-bg-color: #E2EBFA;\n",
              "      --hover-fill-color: #174EA6;\n",
              "      --disabled-fill-color: #AAA;\n",
              "      --disabled-bg-color: #DDD;\n",
              "  }\n",
              "\n",
              "  [theme=dark] .colab-df-quickchart {\n",
              "      --bg-color: #3B4455;\n",
              "      --fill-color: #D2E3FC;\n",
              "      --hover-bg-color: #434B5C;\n",
              "      --hover-fill-color: #FFFFFF;\n",
              "      --disabled-bg-color: #3B4455;\n",
              "      --disabled-fill-color: #666;\n",
              "  }\n",
              "\n",
              "  .colab-df-quickchart {\n",
              "    background-color: var(--bg-color);\n",
              "    border: none;\n",
              "    border-radius: 50%;\n",
              "    cursor: pointer;\n",
              "    display: none;\n",
              "    fill: var(--fill-color);\n",
              "    height: 32px;\n",
              "    padding: 0;\n",
              "    width: 32px;\n",
              "  }\n",
              "\n",
              "  .colab-df-quickchart:hover {\n",
              "    background-color: var(--hover-bg-color);\n",
              "    box-shadow: 0 1px 2px rgba(60, 64, 67, 0.3), 0 1px 3px 1px rgba(60, 64, 67, 0.15);\n",
              "    fill: var(--button-hover-fill-color);\n",
              "  }\n",
              "\n",
              "  .colab-df-quickchart-complete:disabled,\n",
              "  .colab-df-quickchart-complete:disabled:hover {\n",
              "    background-color: var(--disabled-bg-color);\n",
              "    fill: var(--disabled-fill-color);\n",
              "    box-shadow: none;\n",
              "  }\n",
              "\n",
              "  .colab-df-spinner {\n",
              "    border: 2px solid var(--fill-color);\n",
              "    border-color: transparent;\n",
              "    border-bottom-color: var(--fill-color);\n",
              "    animation:\n",
              "      spin 1s steps(1) infinite;\n",
              "  }\n",
              "\n",
              "  @keyframes spin {\n",
              "    0% {\n",
              "      border-color: transparent;\n",
              "      border-bottom-color: var(--fill-color);\n",
              "      border-left-color: var(--fill-color);\n",
              "    }\n",
              "    20% {\n",
              "      border-color: transparent;\n",
              "      border-left-color: var(--fill-color);\n",
              "      border-top-color: var(--fill-color);\n",
              "    }\n",
              "    30% {\n",
              "      border-color: transparent;\n",
              "      border-left-color: var(--fill-color);\n",
              "      border-top-color: var(--fill-color);\n",
              "      border-right-color: var(--fill-color);\n",
              "    }\n",
              "    40% {\n",
              "      border-color: transparent;\n",
              "      border-right-color: var(--fill-color);\n",
              "      border-top-color: var(--fill-color);\n",
              "    }\n",
              "    60% {\n",
              "      border-color: transparent;\n",
              "      border-right-color: var(--fill-color);\n",
              "    }\n",
              "    80% {\n",
              "      border-color: transparent;\n",
              "      border-right-color: var(--fill-color);\n",
              "      border-bottom-color: var(--fill-color);\n",
              "    }\n",
              "    90% {\n",
              "      border-color: transparent;\n",
              "      border-bottom-color: var(--fill-color);\n",
              "    }\n",
              "  }\n",
              "</style>\n",
              "\n",
              "  <script>\n",
              "    async function quickchart(key) {\n",
              "      const quickchartButtonEl =\n",
              "        document.querySelector('#' + key + ' button');\n",
              "      quickchartButtonEl.disabled = true;  // To prevent multiple clicks.\n",
              "      quickchartButtonEl.classList.add('colab-df-spinner');\n",
              "      try {\n",
              "        const charts = await google.colab.kernel.invokeFunction(\n",
              "            'suggestCharts', [key], {});\n",
              "      } catch (error) {\n",
              "        console.error('Error during call to suggestCharts:', error);\n",
              "      }\n",
              "      quickchartButtonEl.classList.remove('colab-df-spinner');\n",
              "      quickchartButtonEl.classList.add('colab-df-quickchart-complete');\n",
              "    }\n",
              "    (() => {\n",
              "      let quickchartButtonEl =\n",
              "        document.querySelector('#df-40125929-3308-4176-8c46-51bd7a46d9d4 button');\n",
              "      quickchartButtonEl.style.display =\n",
              "        google.colab.kernel.accessAllowed ? 'block' : 'none';\n",
              "    })();\n",
              "  </script>\n",
              "</div>\n",
              "\n",
              "    </div>\n",
              "  </div>\n"
            ],
            "application/vnd.google.colaboratory.intrinsic+json": {
              "type": "dataframe",
              "variable_name": "df1"
            }
          },
          "metadata": {},
          "execution_count": 6
        }
      ],
      "source": [
        "# faire une copie du dataframe\n",
        "df1 = df.copy()\n",
        "df1.head()\n",
        "key_columns = df1[[0, df1.columns[-1]]]  # prendre que le target et le texte\n",
        "df1 = key_columns\n",
        "df1.head()\n"
      ]
    },
    {
      "cell_type": "code",
      "execution_count": null,
      "metadata": {
        "id": "Umei5V8ACJWi"
      },
      "outputs": [],
      "source": [
        "# extraire les tweets et la classe\n",
        "X = df1.iloc[:, 1]\n",
        "y = df1.iloc[:, 0]\n",
        "#Xt, Xtt, Yt, Ytt = train_test_split(X, y, test_size = 0.30)"
      ]
    },
    {
      "cell_type": "markdown",
      "metadata": {
        "id": "K7Eu-9MAtReM"
      },
      "source": [
        "## **Nettoyage de données**"
      ]
    },
    {
      "cell_type": "code",
      "execution_count": null,
      "metadata": {
        "id": "TipC6zjiA6U6"
      },
      "outputs": [],
      "source": [
        "def lowerCase(tokens):\n",
        "  new_tokens = [token.lower() for token in tokens]\n",
        "  return new_tokens"
      ]
    },
    {
      "cell_type": "code",
      "execution_count": null,
      "metadata": {
        "id": "bHGFmw59BcVa"
      },
      "outputs": [],
      "source": [
        "#print(X[0])\n",
        "#words = lowerCase(word_tokenize(X[0]))\n",
        "#print(words)"
      ]
    },
    {
      "cell_type": "code",
      "execution_count": null,
      "metadata": {
        "id": "hrwCileOiqJd"
      },
      "outputs": [],
      "source": [
        "def remove_html_tags(tokens):\n",
        "    clean_tokens = []\n",
        "    for token in tokens:\n",
        "        clean_token = re.sub('<[^<>]+>', '', token)\n",
        "        clean_tokens.append(clean_token)\n",
        "    return clean_tokens"
      ]
    },
    {
      "cell_type": "code",
      "execution_count": null,
      "metadata": {
        "id": "miJYyTko9B6J"
      },
      "outputs": [],
      "source": [
        "#print(X[0])\n",
        "#words = remove_html_tags(word_tokenize(X[0]))\n",
        "#print(words)"
      ]
    },
    {
      "cell_type": "code",
      "execution_count": null,
      "metadata": {
        "id": "jmwC6PuzmJWp"
      },
      "outputs": [],
      "source": [
        "def radicalisation(tokens):\n",
        "  ps = PorterStemmer()\n",
        "  new_tokens = [ps.stem(token) for token in tokens]\n",
        "  return new_tokens"
      ]
    },
    {
      "cell_type": "code",
      "execution_count": null,
      "metadata": {
        "id": "gkDjZx5ZmwVc"
      },
      "outputs": [],
      "source": [
        "#print(X[16])\n",
        "#words = radicalisation(word_tokenize(X[16]))\n",
        "#print(words)"
      ]
    },
    {
      "cell_type": "code",
      "execution_count": null,
      "metadata": {
        "id": "B0wyS4eNoh8q"
      },
      "outputs": [],
      "source": [
        "import string\n",
        "def is_ponctuation(mot):\n",
        "    return all(caractere in string.punctuation for caractere in mot)\n",
        "def remove_ponctuation(tokens):\n",
        "  new_tokens = [token for token in tokens if not is_ponctuation(token)]\n",
        "  return new_tokens"
      ]
    },
    {
      "cell_type": "code",
      "execution_count": null,
      "metadata": {
        "id": "wzV0GdMCokaO"
      },
      "outputs": [],
      "source": [
        "#print(X[21])\n",
        "#words = remove_ponctuation(word_tokenize(X[21]))\n",
        "#print(words)"
      ]
    },
    {
      "cell_type": "code",
      "execution_count": null,
      "metadata": {
        "id": "2bytAoG0os86"
      },
      "outputs": [],
      "source": [
        "def is_multiple_white_spaces(token):\n",
        "    return all(caractere.isspace() for caractere in token)\n",
        "\n",
        "def remove_white_spaces(tokens):\n",
        "  new_tokens = [token if not is_multiple_white_spaces(token) else ' ' for token in tokens]\n",
        "  return new_tokens"
      ]
    },
    {
      "cell_type": "code",
      "execution_count": null,
      "metadata": {
        "id": "Xvb_F_9tp3g4"
      },
      "outputs": [],
      "source": [
        "#words = remove_white_spaces(word_tokenize(X[21]))\n",
        "#print(words)"
      ]
    },
    {
      "cell_type": "code",
      "execution_count": null,
      "metadata": {
        "id": "0VnsncFxrt89"
      },
      "outputs": [],
      "source": [
        "stop_words = set(stopwords.words('english'))\n",
        "def remove_stop_words(tokens):\n",
        "  new_tokens = [token for token in tokens if token not in stop_words ]\n",
        "  return new_tokens"
      ]
    },
    {
      "cell_type": "code",
      "execution_count": null,
      "metadata": {
        "id": "q1u2tIhCsiF0"
      },
      "outputs": [],
      "source": [
        "#print(Xt[16])\n",
        "#words = remove_stop_words(word_tokenize(X[16]))\n",
        "#print(words)"
      ]
    },
    {
      "cell_type": "code",
      "source": [
        "def remove_http_links_and_at(text): # eleminier les liens et les tags\n",
        "\n",
        "    text = re.sub(r'(https?:\\/\\/)(\\s)*(www\\.)?(\\s)*((\\w|\\s)+\\.)*([\\w\\-\\s]+\\/)*([\\w\\-]+)((\\?)?[\\w\\s]*=\\s*[\\w\\%&]*)*',\n",
        "                  '',\n",
        "                  text)\n",
        "    clean_text = re.sub(r\"@\\w+\", '', text)\n",
        "\n",
        "    return clean_text"
      ],
      "metadata": {
        "id": "ozZJTypZMPro"
      },
      "execution_count": null,
      "outputs": []
    },
    {
      "cell_type": "code",
      "source": [
        "print(X[0])\n",
        "text = remove_http_links_and_at(X[0])\n",
        "print(text)"
      ],
      "metadata": {
        "colab": {
          "base_uri": "https://localhost:8080/"
        },
        "id": "v8l1GbquTIUG",
        "outputId": "449237ae-6f7e-4c7e-e9c1-c0583869b034"
      },
      "execution_count": null,
      "outputs": [
        {
          "output_type": "stream",
          "name": "stdout",
          "text": [
            "@switchfoot http://twitpic.com/2y1zl - Awww, that's a bummer.  You shoulda got David Carr of Third Day to do it. ;D\n",
            "  - Awww, that's a bummer.  You shoulda got David Carr of Third Day to do it. ;D\n"
          ]
        }
      ]
    },
    {
      "cell_type": "code",
      "source": [
        "def remove_numbers(text): # eleminier les liens et la ponctusation , les mots qui commencent avec ' et les nombre\n",
        "\n",
        "    clean_text = re.sub(r'\\d+', '', text)\n",
        "\n",
        "    return clean_text"
      ],
      "metadata": {
        "id": "7a87oOEaChl6"
      },
      "execution_count": null,
      "outputs": []
    },
    {
      "cell_type": "code",
      "source": [
        "print(X[121])\n",
        "text = remove_http_links_and_at(X[121])\n",
        "text = remove_numbers(text)\n",
        "print(text)"
      ],
      "metadata": {
        "colab": {
          "base_uri": "https://localhost:8080/"
        },
        "id": "3ezKthoPDDjL",
        "outputId": "b046269b-5c2f-4d55-d875-d07a5a3f171c"
      },
      "execution_count": null,
      "outputs": [
        {
          "output_type": "stream",
          "name": "stdout",
          "text": [
            "wednesday my b-day n don't know what 2 do!  \n",
            "wednesday my b-day n don't know what  do!  \n"
          ]
        }
      ]
    },
    {
      "cell_type": "code",
      "execution_count": null,
      "metadata": {
        "id": "FwW8Dfd3vaTQ"
      },
      "outputs": [],
      "source": [
        "def preprocessing(tokens):\n",
        "    tokens = lowerCase(tokens)\n",
        "    #print(\"Après lowerCase:\", tokens)\n",
        "    tokens = remove_html_tags(tokens)\n",
        "    #print(\"Après remove_html_tags:\", tokens)\n",
        "    tokens = remove_white_spaces(tokens)\n",
        "    #print(\"Après remove_white_spaces:\", tokens)\n",
        "    tokens = remove_ponctuation(tokens)\n",
        "    #print(\"Après remove_ponctuation:\", tokens)\n",
        "    tokens = remove_stop_words(tokens)\n",
        "    #print(\"Après remove_stop_words:\", tokens)\n",
        "    tokens = radicalisation(tokens)\n",
        "    #print(\"Après radicalisation:\", tokens)\n",
        "    return tokens"
      ]
    },
    {
      "cell_type": "code",
      "execution_count": null,
      "metadata": {
        "id": "-hwT-Lomv0DI"
      },
      "outputs": [],
      "source": [
        "#print(Xt[0])\n",
        "#tokens = preprocessing(word_tokenize(X[0]))\n",
        "#print(tokens)"
      ]
    },
    {
      "cell_type": "code",
      "source": [
        "X = [remove_http_links_and_at(text) for text in X]"
      ],
      "metadata": {
        "id": "J7aExwTgTcz1"
      },
      "execution_count": null,
      "outputs": []
    },
    {
      "cell_type": "code",
      "source": [
        "X = [remove_numbers(text) for text in X]"
      ],
      "metadata": {
        "id": "mL38qaHXDiaf"
      },
      "execution_count": null,
      "outputs": []
    },
    {
      "cell_type": "code",
      "execution_count": null,
      "metadata": {
        "id": "1oqlcmCJ2BkD"
      },
      "outputs": [],
      "source": [
        "Xt_tokenized= [word_tokenize(text) for text in X]"
      ]
    },
    {
      "cell_type": "code",
      "execution_count": null,
      "metadata": {
        "id": "7DZLdo1MLv8u"
      },
      "outputs": [],
      "source": [
        "Xt_processed = [preprocessing(tokens) for tokens in Xt_tokenized]"
      ]
    },
    {
      "cell_type": "code",
      "source": [
        "filtered_Xt = []\n",
        "stemmer = nltk.stem.snowball.SnowballStemmer(\"english\")\n",
        "\n",
        "for tokens in Xt_processed:\n",
        "    # Filtrer les mots non standard dans chaque ensemble de tokens\n",
        "    filtered_tokens = [stemmer.stem(token)for token in tokens if token.isalpha()]\n",
        "    # Ajouter les mots filtrés à la liste du vocabulaire filtré\n",
        "    filtered_Xt.append(filtered_tokens)"
      ],
      "metadata": {
        "id": "ZnxXDtz0LQsv"
      },
      "execution_count": null,
      "outputs": []
    },
    {
      "cell_type": "code",
      "source": [
        "print(filtered_Xt[0])"
      ],
      "metadata": {
        "id": "fnUNhnnbMjFl",
        "colab": {
          "base_uri": "https://localhost:8080/"
        },
        "outputId": "27655fc6-cdda-4ded-d984-8fcb1cd8baeb"
      },
      "execution_count": null,
      "outputs": [
        {
          "output_type": "stream",
          "name": "stdout",
          "text": [
            "['awww', 'bummer', 'shoulda', 'got', 'david', 'carr', 'third', 'day']\n"
          ]
        }
      ]
    },
    {
      "cell_type": "markdown",
      "metadata": {
        "id": "xkKu9MVZtieA"
      },
      "source": [
        " **Construction du vocabulaire**"
      ]
    },
    {
      "cell_type": "code",
      "execution_count": null,
      "metadata": {
        "id": "OAmGCRqZBzI_"
      },
      "outputs": [],
      "source": [
        "def construction_vocabulaire(X, k):\n",
        "    words_counter = Counter()\n",
        "    for tokens in X:\n",
        "        words_counter.update(tokens)\n",
        "    vocabulaire = [word for word, count in words_counter.items() if count >= k]\n",
        "    return np.array(vocabulaire)"
      ]
    },
    {
      "cell_type": "code",
      "execution_count": null,
      "metadata": {
        "id": "r0I10GrpOsLm"
      },
      "outputs": [],
      "source": [
        "def sauvegarder_vocabulaire(vocabulaire, fichier):\n",
        "    with open(fichier, 'w') as f:\n",
        "        for mot in vocabulaire:\n",
        "            f.write(mot + '\\n')"
      ]
    },
    {
      "cell_type": "code",
      "source": [
        "def creer_et_sauvegarder_vocabulaires(X, ks):\n",
        "    vocabulaires = []\n",
        "    for k in ks:\n",
        "        vocabulaire = construction_vocabulaire(X, k)\n",
        "        vocabulaires.append(vocabulaire)\n",
        "        fichier = f'vocabulaire{k}.txt'\n",
        "        sauvegarder_vocabulaire(vocabulaire, fichier)\n",
        "    return vocabulaires"
      ],
      "metadata": {
        "id": "sF_P4UaYFEq5"
      },
      "execution_count": null,
      "outputs": []
    },
    {
      "cell_type": "code",
      "source": [
        "ks = [500, 1000, 1500, 2000]  # Différentes valeurs de k à utiliser\n",
        "vocabulaires = creer_et_sauvegarder_vocabulaires(filtered_Xt, ks)"
      ],
      "metadata": {
        "id": "Lu93OtEKFKo3"
      },
      "execution_count": null,
      "outputs": []
    },
    {
      "cell_type": "code",
      "execution_count": null,
      "metadata": {
        "id": "SJe8hzPtQLra"
      },
      "outputs": [],
      "source": [
        "def mapping(tokens, vocabulaire):\n",
        "    mapped_text = []\n",
        "    for token in tokens:\n",
        "        if token in vocabulaire:\n",
        "            index = np.where(vocabulaire == token)[0][0]\n",
        "            mapped_text.append([token, index])\n",
        "    return np.array(mapped_text)"
      ]
    },
    {
      "cell_type": "code",
      "source": [
        "def creer_et_sauvegarder_Xt_mapped(Xt_processed, vocabulaires):\n",
        "    for i, vocabulaire in enumerate(vocabulaires):\n",
        "        Xt_mapped = [mapping(tokens, vocabulaire) for tokens in Xt_processed]\n",
        "        Xt_mapped_array = np.empty(len(Xt_mapped), dtype=object)\n",
        "        for j, sublist in enumerate(Xt_mapped):\n",
        "            Xt_mapped_array[j] = sublist\n",
        "        # Sauvegarder Xt_mapped dans un fichier CSV\n",
        "        with open(f'Xt_mapped_{i}.csv', 'w') as f:\n",
        "            for tweet in Xt_mapped:\n",
        "                f.write(','.join([f'{word}:{index}' for word, index in tweet]) + '\\n')"
      ],
      "metadata": {
        "id": "Vg-sb2yfJJyS"
      },
      "execution_count": null,
      "outputs": []
    },
    {
      "cell_type": "code",
      "source": [
        "creer_et_sauvegarder_Xt_mapped(filtered_Xt, vocabulaires)"
      ],
      "metadata": {
        "id": "2Wad2qWgJYsx"
      },
      "execution_count": null,
      "outputs": []
    },
    {
      "cell_type": "markdown",
      "metadata": {
        "id": "5MHTlBL65bl2"
      },
      "source": [
        "**Extraction de caractéristiques**"
      ]
    },
    {
      "cell_type": "code",
      "source": [
        "import csv\n",
        "import numpy as np\n",
        "import pandas as pd\n",
        "\n",
        "lines = []\n",
        "\n",
        "# lecture ligne par ligne\n",
        "with open('Xt_mapped_0.csv', 'r', encoding='latin-1') as file:\n",
        "    reader = csv.reader(file)\n",
        "    for row in reader:\n",
        "        lines.append(row)\n",
        "\n",
        "for line in lines[:5]:\n",
        "    print(line)\n",
        "\n",
        "# Reconstruire chaque élément de chaque liste en une paire [mot, indice]\n",
        "Xt_mapped = []\n",
        "for line in lines:\n",
        "    Xt_mapped.append([[word, int(index)] for word, index in [pair.split(':') for pair in line]])\n",
        "\n",
        "Xt_mapped_array = np.empty(len(Xt_mapped), dtype=object)\n",
        "for i, sublist in enumerate(Xt_mapped):\n",
        "    Xt_mapped_array[i] = sublist\n",
        "\n",
        "#print(Xt_mapped_array[:5])\n"
      ],
      "metadata": {
        "colab": {
          "base_uri": "https://localhost:8080/"
        },
        "id": "SfNWgXkaVUos",
        "outputId": "50f993c5-2afe-405e-ee66-8193700ee1ca"
      },
      "execution_count": null,
      "outputs": [
        {
          "output_type": "stream",
          "name": "stdout",
          "text": [
            "['awww:0', 'bummer:1', 'got:2', 'david:3', 'day:4']\n",
            "['upset:5', 'ca:6', 'updat:7', 'facebook:8', 'text:9', 'might:10', 'cri:11', 'result:12', 'school:13', 'today:14', 'also:15', 'blah:16']\n",
            "['mani:17', 'time:18', 'ball:19', 'manag:20', 'save:21', 'rest:22', 'go:23']\n",
            "['whole:24', 'bodi:25', 'feel:26', 'like:27', 'fire:28']\n",
            "['mad:29', 'ca:6', 'see:30']\n"
          ]
        }
      ]
    },
    {
      "cell_type": "code",
      "source": [
        "with open('vocabulaire1000.txt', 'r', encoding='utf-8') as file:\n",
        "    vocabulaire = file.read().splitlines()\n",
        "\n",
        "#print(vocabulaire)\n",
        "vocabulaire = np.array(vocabulaire)\n",
        "print(vocabulaire.shape)\n",
        "print(Xt_mapped_array.shape)"
      ],
      "metadata": {
        "colab": {
          "base_uri": "https://localhost:8080/"
        },
        "id": "rtrpAiFTagj1",
        "outputId": "6607636c-869b-4b5e-e906-152416e272da"
      },
      "execution_count": null,
      "outputs": [
        {
          "output_type": "stream",
          "name": "stdout",
          "text": [
            "(1429,)\n",
            "(1600000,)\n"
          ]
        }
      ]
    },
    {
      "cell_type": "code",
      "execution_count": null,
      "metadata": {
        "id": "HTEnmdmc6iK3"
      },
      "outputs": [],
      "source": [
        "def features_extraction1(Xt, vocabulaire):\n",
        "    X = np.zeros((len(Xt), len(vocabulaire)))\n",
        "    for i in range(len(Xt)):\n",
        "        for word_index in Xt[i]:\n",
        "            index = word_index[1]\n",
        "            #print(index)\n",
        "            X[i, index] = 1\n",
        "    return X"
      ]
    },
    {
      "cell_type": "code",
      "execution_count": null,
      "metadata": {
        "id": "RuS2R3lC-8f9",
        "colab": {
          "base_uri": "https://localhost:8080/"
        },
        "outputId": "74c5111f-657e-453d-8e97-02b3ada0d47e"
      },
      "outputs": [
        {
          "output_type": "stream",
          "name": "stdout",
          "text": [
            "Drive already mounted at /content/drive; to attempt to forcibly remount, call drive.mount(\"/content/drive\", force_remount=True).\n"
          ]
        }
      ],
      "source": [
        "# Extraction et sauvegarde des caractéristiques - Première partie\n",
        "\n",
        "from google.colab import drive\n",
        "drive.mount('/content/drive')\n",
        "\n",
        "Xt_features_part1 = features_extraction1(Xt_mapped_array[:len(Xt_mapped_array)//2], vocabulaire)\n",
        "\n",
        "df1= pd.DataFrame(Xt_features_part1)\n",
        "\n",
        "df1.to_csv('/content/drive/My Drive/data1.csv', index=False)\n"
      ]
    },
    {
      "cell_type": "code",
      "source": [
        "# Extraction et sauvegarde des caractéristiques - Deuxième partie\n",
        "Xt_features_part2 = features_extraction1(Xt_mapped_array[len(Xt_mapped_array)//2:], vocabulaire)\n",
        "\n",
        "df2= pd.DataFrame(Xt_features_part2)\n",
        "\n",
        "df2.to_csv('/content/drive/My Drive/data2.csv', index=False)\n"
      ],
      "metadata": {
        "id": "QCryKWP-lhmQ"
      },
      "execution_count": null,
      "outputs": []
    },
    {
      "cell_type": "code",
      "execution_count": null,
      "metadata": {
        "id": "kYfKihv0JEir"
      },
      "outputs": [],
      "source": [
        "def count_word_occurrences(word, vocabulaire):\n",
        "    return sum(1 for token in vocabulaire if token == word)\n",
        "\n",
        "def features_extraction2(Xt, vocabulaire):\n",
        "    X = np.zeros((len(Xt), len(vocabulaire)))\n",
        "    for i in range(len(Xt)):\n",
        "      for word_index in Xt[i]:\n",
        "        index = word_index[1]\n",
        "        X[i, int(index)] = count_word_occurrences(word_index[0], vocabulaire)\n",
        "    return X"
      ]
    }
  ],
  "metadata": {
    "colab": {
      "provenance": []
    },
    "kernelspec": {
      "display_name": "Python 3",
      "name": "python3"
    },
    "language_info": {
      "name": "python"
    }
  },
  "nbformat": 4,
  "nbformat_minor": 0
}